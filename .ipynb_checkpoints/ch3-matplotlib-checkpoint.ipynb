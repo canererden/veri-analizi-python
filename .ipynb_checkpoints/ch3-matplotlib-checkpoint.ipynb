{
 "cells": [
  {
   "cell_type": "markdown",
   "metadata": {},
   "source": [
    "# Görsel Veri Analizine Giriş\n",
    "\n",
    "Bu bölümde, Python'da en yaygın kullanılan ve güçlü veri görselleştirme kitaplıklarından biri olan Matplotlibkullanarak veri görselleştirme dünyasına giriş yapacağız. Matplotlib, Python programlama dili için bir grafik çizme kütüphanesidir ve verilerinizi görsel olarak temsil etmek için kullanılır. Bu kütüphane, doğrusal grafikler, dağılım grafikleri, pasta grafikleri, çubuk grafikleri ve daha birçok grafik türü oluşturmanızı sağlar. Matplotlib, ücretsiz ve açık kaynaklı bir yazılımdır ve Python'da veri analizi, makine öğrenimi, yapay zeka ve daha birçok alanda sıklıkla kullanılır. Bu eğitimde, Matplotlib kütüphanesinin temellerini öğreneceksiniz ve verilerinizi nasıl etkileyici grafiklere dönüştürebileceğinizi öğreneceksiniz.\n",
    "\n",
    "## Matplotlib Kütüphanesi\n",
    "Matplotlib, 2 ve 3 boyutlu grafiklerin çizilmesi için geliştirilmiş, anasayfası (http://matplotlib.org) adresinde bulunan, özellikle bilimsel ve mühendislik alanlarındaki veri görselleştirmelerinde sıklıkla kullanılan bir kütüphanedir. Veri görselleştirme ihtiyacı verinin olduğu her alanda geçerlidir. Çünkü büyük veri kümelerindeki veriyi nitelendiren özelliklere ve ölçülere genel çerçeveden bakılmak istendiğinde görsel araçlara ihtiyaç duyulur. Örneğin bir veri setinin dağılımı ile ilgili histogram grafikleri hızlı bir izlenim imkanı sunar. Aşağıdaki görselde tablo ile sunulamayacak bilgilerin veri görselleştirme ile göze hitap edecek şekilde sunulması için araçlar gösterilmiştir. \n",
    "\n",
    "![](https://uploads-ssl.webflow.com/61488f4f65be16b5ebbd450b/61b74ab1d55fa17b82d7ed89_Data%20Visualization.jpg)"
   ]
  },
  {
   "cell_type": "markdown",
   "metadata": {},
   "source": [
    "Matplotlib kütüphanesi [NumPy](https://numpy.org/) üzerine kurulmuş bir kütüphanedir. Bu nedenle Matplotlib kütüphanesinin çağrılmasından önce NumPy kütüphanesinin de yüklü kütüphaneler arasında olması gereklidir. Matplotlib, verileri görselleştirmek için kullanılan güçlü bir kütüphanedir. Bu nedenle, Matplotlib'ın sunduğu avantajları kullanarak, verilerinizi etkileyici grafiklere dönüştürebilir ve daha kolay bir şekilde analiz edebilirsiniz. Kısaca Matplotlib kütüphanesinin önemli avantajlarını şu şekilde sunabiliriz:\n",
    "\n",
    "- Basit ve Kullanımı Kolay: Matplotlib, kullanımı kolay bir arayüze sahiptir ve temel grafik çizme işlevleri için hızlı ve basit bir şekilde kullanılabilir.\n",
    "- Geniş Kapsamlı Grafikler: Matplotlib, doğrusal grafikler, dağılım grafikleri, pasta grafikleri, çubuk grafikleri ve daha birçok grafik türü oluşturmanızı sağlar. Bu nedenle, verilerinizi birçok farklı şekilde görselleştirebilirsiniz.\n",
    "- Özelleştirilebilir Grafikler: Matplotlib ile grafiklerinizi özelleştirmek için birçok seçeneğe sahipsiniz. Renkler, çizgi stilleri, etiketler ve daha birçok şeyi kolayca özelleştirebilirsiniz.\n",
    "- Çoklu Veri Kümeleri: Matplotlib, birçok veri kümesini aynı grafikte birleştirmenize olanak tanır. Bu, verileriniz arasındaki ilişkileri anlamak için çoklu grafikleri karşılaştırmanızı ve birleştirmenizi sağlar.\n",
    "- Çoklu Çıktı Biçimleri: Matplotlib, grafikleri birçok farklı çıktı biçiminde kaydetmenizi sağlar. Grafikleri PNG, PDF, SVG ve daha birçok formatta kaydedebilirsiniz.\n",
    "- Ücretsiz ve Açık Kaynaklı: Matplotlib, ücretsiz ve açık kaynaklı bir yazılımdır ve Python topluluğu tarafından sıkça kullanılan bir kütüphanedir. "
   ]
  },
  {
   "cell_type": "markdown",
   "metadata": {},
   "source": [
    "Matplotlib, Python dilindeki paket yöneticisi olan pip ile kolayca yüklenebilir. İlk olarak, aşağıdaki kodu kullanarak Matplotlib kütüphanesini Jupyter notebook üzerinden yükleyebilirsiniz:\n",
    "\n",
    "```!pip install matplotlib```\n",
    "\n",
    "veya\n",
    "\n",
    "```!conda install matplotlib```\n",
    " "
   ]
  },
  {
   "cell_type": "markdown",
   "metadata": {},
   "source": [
    "## Matplotlib Grafiklerine Giriş\n",
    "\n",
    "Matplotlib ile görselleştirmelere geçmeden önce Matplotlib katmanlarından bahsetmekte fayda vardır. Matplotlib, çizimlerin oluşturulması ve düzenlenmesi için bir dizi katman sağlar. Aşağıda, Matplotlib'deki katmanların kısaca açıklamaları verilmiştir:\n",
    "\n",
    "1. Figure: Figure, çizimlerin oluşturulduğu en üst düzey katmandır. Figure, genellikle birden fazla alt grafik (subplot) içerir. Birden fazla çizimi bir arada göstermek için kullanılabilir.\n",
    "2. Axes: Axes, verilerin çizildiği katmandır. Grafikteki x ve y eksenleri gibi her şey, bu katmanda oluşturulur. Axes, tek bir grafik için birden fazla çizgi veya veri kümesi içerebilir.\n",
    "3. Axis: Axis, x ve y eksenleri gibi her bir eksenin ayrı ayrı bulunduğu katmandır. Eksenlerdeki etiketler, işaretçiler ve çizgiler bu katmanda bulunur.\n",
    "4. Artist: Artist, grafikte çizilen herhangi bir şeyi (çizgi, işaretçi, şekil, metin vb.) temsil eden bir katmandır. Grafikteki herhangi bir öğeyi özelleştirmek için bu katman kullanılabilir.\n",
    "\n",
    "Matplotlib'deki bu katmanlar, grafik oluşturma ve özelleştirme sürecinde kullanılan araçlar ve işlevler sağlar. Bu katmanlar, Matplotlib'ın güçlü ve esnek bir grafik kütüphanesi olmasını sağlar. \n",
    "\n",
    "Matplotlib'de bir grafik oluşturmak için ilk adım, bir \"Figure\" oluşturmaktır. \"Figure\", en üst düzey çizim katmanıdır ve grafikteki her şeyin (eksenler, etiketler, veriler vb.) bulunduğu alanı tanımlar. Aşağıda bir \"Figure\" anatomisi anlatılmaktadır:\n",
    "\n",
    "![](https://matplotlib.org/stable/_images/anatomy.png)\n",
    "\n",
    "1. Figure: Figure, en üst düzey grafik alanıdır. Eksenler, metin, çizgiler ve diğer tüm öğeler bu alan içinde bulunur.\n",
    "2. Axes: Axes, Figure içindeki verilerin çizildiği alandır. Her \"Figure\" bir veya daha fazla \"Axes\" içerebilir.\n",
    "3. Axis: \"Axes\" içindeki bir eksen. Her \"Axes\" nesnesi, iki veya üç eksen içerir: x eksenleri, y eksenleri ve (varsa) z eksenleri.\n",
    "4. Tick: \"Axis\" üzerindeki işaretleyicilerdir. Eksenin konumunu ve etiketlerini belirlerler.\n",
    "5. Label: \"Axis\" üzerindeki işaretçi etiketidir. Eksenin neyi ölçtüğünü belirtir.\n",
    "6. Spine: \"Axis\" çerçevesi boyunca uzanan çizgi. Spine'lar, verilerin eksenlerdeki konumlarını gösteren işaretleyicilerin üzerine yerleştirilebilir.\n",
    "7. Grid: Verilerin konumunu gösteren çizgiler. Grid, eksenlerin etrafında oluşturulabilir.\n",
    "8. Title: \"Axes\" üzerindeki başlık. Grafik hakkında özet bilgi sağlar.\n",
    "9. Legend: Grafikteki farklı veri kümelerini açıklayan etiketler. \"Axes\" içindeki bir konuma yerleştirilebilir.\n",
    "\n",
    "Matplotlib'de, bir \"Figure\" oluşturduktan sonra, \"Axes\" nesneleri ekleyebilir ve \"Axis\", \"Tick\", \"Label\" vb. özellikleri özelleştirebilirsiniz."
   ]
  },
  {
   "cell_type": "markdown",
   "metadata": {},
   "source": [
    "## Matplotlib kütüphanesini çağırma\n",
    "Klasik bir Matplotlib kütüphane çağrılma yöntemi aşağıda verilmiştir.\n",
    "\n",
    "``import Matplotlib.pyplot as plt`` \n",
    "\n",
    "Bu kod ``pyplot`` isimli modülün çağrılmasını sağlar. Bu modül sayesinde Matplotlib grafikleri, eksenleri ve aksisleri çizdirilebilir. Aşağıdaki görselde pyplot ile çizilen figürlerin objeleri gösterilmiştir.\n",
    "\n",
    "Aşağıdaki kodlar ile matplotlib kütüphanesi çağrılmış olunur. Aynı zamanda NumPy ve Pandas kütüphanelerinin de başlangıçta çağrılmasında fayda vardır."
   ]
  },
  {
   "cell_type": "code",
   "execution_count": null,
   "metadata": {},
   "outputs": [],
   "source": [
    "import numpy as np\n",
    "import pandas as pd\n",
    "import matplotlib.pyplot as plt\n",
    "# from matplotlib import pyplot as plt"
   ]
  },
  {
   "cell_type": "markdown",
   "metadata": {},
   "source": [
    "Basit bir Matplotlib grafiği kodları aşağıda paylaşılmıştır. plt.plot() ile x değerlerine karşılık gelen y değerleri çizdirilebilir. "
   ]
  },
  {
   "cell_type": "code",
   "execution_count": null,
   "metadata": {},
   "outputs": [],
   "source": [
    "# x ve y verileri\n",
    "x = [1, 2, 3, 4, 5]\n",
    "y = [2, 4, 6, 8, 10]\n",
    "\n",
    "# Grafik oluşturma\n",
    "plt.plot(x, y)\n",
    "\n",
    "# Grafik özellikleri\n",
    "plt.title(\"Örnek Grafik\")\n",
    "plt.xlabel(\"X Ekseni\")\n",
    "plt.ylabel(\"Y Ekseni\")\n",
    "\n",
    "# Grafik gösterimi\n",
    "plt.show()"
   ]
  },
  {
   "cell_type": "markdown",
   "metadata": {},
   "source": [
    "Bu örnekte, öncelikle `matplotlib.pyplot` modülü import edilir. Daha sonra, \"x\" ve \"y\" verileri tanımlanır. `plt.plot(x, y)` çağrısı ile, bu verileri içeren bir grafik oluşturulur.\n",
    "\n",
    "Daha sonra, `plt.title()`, `plt.xlabel()` ve `plt.ylabel()` çağrıları ile grafik başlığı ve eksen etiketleri belirtilir. Son olarak, `plt.show()` çağrısı ile, oluşturulan grafik ekranda gösterilir.\n",
    "\n",
    "Bu örnek, Matplotlib'in temel kullanımını göstermektedir. Grafik oluşturma sürecinde, \"Axes\" özelliklerini ve diğer özelleştirme seçeneklerini kullanarak grafikleri daha fazla özelleştirebilirsiniz."
   ]
  },
  {
   "cell_type": "code",
   "execution_count": null,
   "metadata": {},
   "outputs": [],
   "source": [
    "plt.plot([1,2,3],[7,3,9]) # (1,7), (2,3), (3,9) noktalarını birleştirir"
   ]
  },
  {
   "cell_type": "code",
   "execution_count": null,
   "metadata": {},
   "outputs": [],
   "source": [
    "plt.plot([3, 5, 2])  # x ekseni verilmez ise varsayılan olarak 0-1-2... gelir"
   ]
  },
  {
   "cell_type": "code",
   "execution_count": null,
   "metadata": {},
   "outputs": [],
   "source": [
    "x = np.linspace(-np.pi, np.pi, 20)  # -pi ile +pi arasında 20 adet değer\n",
    "plt.plot(x, np.sin(x))"
   ]
  },
  {
   "cell_type": "markdown",
   "metadata": {},
   "source": [
    "## Grafiklere Özellik Ekleme\n",
    "\n",
    "Az önce çizdirilen grafikler x, y eksenleri ve alınan değerlerin birleştirilmesi ile oluşturuldu. Matplotlib kütüphanesinde eğer bir özellik tanımı yapılmaz ise grafikler yalın halde gelir. Ancak grafikler yalın halde anlamsızdır. x, y eksenlerinin neyi gösterdiği, grafiğin başlığının ne olduğu, verilerin neler olduğu grafik üzerinde gösterilmelidir. \n",
    "\n",
    "### Eksen etiketi, seri etiketi ve başlık özelliği ekleme\n",
    "\n",
    "`label` özelliği verilerin neler olduğunu gösterir. label özelliğinin grafik içerisinde gösterilmesi için `plt.legend()` fonksiyonu eklenmiştir."
   ]
  },
  {
   "cell_type": "code",
   "execution_count": null,
   "metadata": {},
   "outputs": [],
   "source": [
    "plt.plot(x,np.sin(x), label = 'sin(x)')\n",
    "plt.plot(x,np.cos(x), label = 'cos(x)')\n",
    "plt.legend()"
   ]
  },
  {
   "cell_type": "code",
   "execution_count": null,
   "metadata": {},
   "outputs": [],
   "source": [
    "# Veya\n",
    "plt.plot(x,np.sin(x))\n",
    "plt.plot(x,np.cos(x))\n",
    "plt.legend(('sin', 'cos'), loc='best')"
   ]
  },
  {
   "cell_type": "markdown",
   "metadata": {},
   "source": [
    "legend() fonksiyonu içerisine tanımlanacak parametreler ile etiketlerin konumu değiştirilebilir."
   ]
  },
  {
   "cell_type": "code",
   "execution_count": null,
   "metadata": {},
   "outputs": [],
   "source": [
    "plt.plot(x,np.sin(x), label = 'sin(x)')\n",
    "plt.plot(x,np.cos(x), label = 'cos(x)')\n",
    "plt.legend(loc='best'); # upper left upper right"
   ]
  },
  {
   "cell_type": "markdown",
   "metadata": {},
   "source": [
    "Grafiklerin üzerine başlık eklemek, grafiğin içeriği hakkında daha fazla bilgi verir. Başlık, `title()` işlevi kullanılarak eklenebilir. Örneğin:"
   ]
  },
  {
   "cell_type": "code",
   "execution_count": null,
   "metadata": {},
   "outputs": [],
   "source": [
    "plt.plot(x,np.sin(x), label = 'sin(x)')\n",
    "plt.plot(x,np.cos(x), label = 'cos(x)')\n",
    "plt.legend(loc=7); # upper left upper right\n",
    "plt.title('Sinüs Fonksiyonu')\n",
    "plt.show()"
   ]
  },
  {
   "cell_type": "markdown",
   "metadata": {},
   "source": [
    "### Etiket fontlarını değiştirme\n",
    "\n",
    "Aşağıdaki örnekte birden fazla çizim aynı grafik üzerinde gerçekleştirilmiştir. Buna göre 3 farklı çizimi gösterdikten sonra etiketlerin fontları üzerinde değişiklikler gerçekleştirdik.\n",
    "\n",
    "Renk kullanımında `plot()` işlevi, color parametresi ile çizgi rengini belirleyebilir. Ayrıca, hex renk kodlarını veya RGB veya RGBA renk değerlerini de kullanabilirsiniz. Örneğin:"
   ]
  },
  {
   "cell_type": "code",
   "execution_count": null,
   "metadata": {},
   "outputs": [],
   "source": [
    "# Ya da aynı figür üzerinde şekil çizmek istersek\n",
    "plt.plot(x, np.sin(x), x, np.cos(x), x, x**2);  # ; fonksiyon yazmak istemezsek"
   ]
  },
  {
   "cell_type": "code",
   "execution_count": null,
   "metadata": {},
   "outputs": [],
   "source": [
    "# Etiketlerin fontlarını değiştirme\n",
    "plt.plot(x, np.sin(x), x, np.cos(x), x, x**2)\n",
    "plt.xlabel(\"x değerleri\")\n",
    "plt.ylabel(\"y değerleri\")\n",
    "plt.title(\"x, y grafiği\",\n",
    "          fontdict={\n",
    "              'family': 'serif',\n",
    "              'color': 'red',\n",
    "              'size': 20\n",
    "          },\n",
    "          loc='right')"
   ]
  },
  {
   "cell_type": "markdown",
   "metadata": {},
   "source": [
    "Fontlarla ilgili daha detaylı bilgi [şu adresten](https://matplotlib.org/stable/gallery/text_labels_and_annotations/fonts_demo_kw.html) alınabilir."
   ]
  },
  {
   "cell_type": "markdown",
   "metadata": {},
   "source": [
    "### Izgaraları gösterme"
   ]
  },
  {
   "cell_type": "code",
   "execution_count": null,
   "metadata": {},
   "outputs": [],
   "source": [
    "plt.plot(x, np.sin(x), x, np.cos(x), x, x**2)\n",
    "plt.grid(True, axis='y') # axis='x' sadece x ekseninde ızgaralar gösterir"
   ]
  },
  {
   "cell_type": "markdown",
   "metadata": {},
   "source": [
    "### Renk ve çizgi stillerini değiştirme\n",
    "\n",
    "Bu örnekte, \"color\", \"linestyle\" ve \"linewidth\" parametreleri kullanılarak çizgi rengi, stil ve kalınlığı belirtilir."
   ]
  },
  {
   "cell_type": "code",
   "execution_count": null,
   "metadata": {},
   "outputs": [],
   "source": [
    "# çizgilerin kalınlıklarının ayarlanması\n",
    "plt.plot(x, np.sin(x), x, np.cos(x), x, x**2, linewidth=5);\n",
    "plt.grid()"
   ]
  },
  {
   "cell_type": "code",
   "execution_count": null,
   "metadata": {},
   "outputs": [],
   "source": [
    "# çizgi stilleri\n",
    "plt.plot(x, np.sin(x), linestyle='dashed', label='sin')\n",
    "plt.plot(x, np.cos(x), linestyle='--', label='cos')\n",
    "plt.plot(x, x**2, label='kare', linestyle='-.')\n",
    "plt.grid()\n",
    "plt.legend()"
   ]
  },
  {
   "cell_type": "markdown",
   "metadata": {},
   "source": [
    "![image.png](https://matplotlib.org/stable/_images/sphx_glr_linestyles_001.png)\n",
    "\n",
    "Diğer diğer parametreler için [şu adresten](https://matplotlib.org/devdocs/api/_as_gen/matplotlib.pyplot.plot.html) bilgi alınabilir.\n",
    "\n"
   ]
  },
  {
   "cell_type": "markdown",
   "metadata": {},
   "source": [
    "### Marker özellikleri\n",
    "\n",
    "Bu örnekte, \"marker\" ve \"markersize\" parametreleri kullanılarak çizgi üzerinde işaretleyici (marker) boyutu ve şekli belirtilir. Detaylı bilgi [link](https://matplotlib.org/stable/gallery/lines_bars_and_markers/marker_reference.html)"
   ]
  },
  {
   "cell_type": "code",
   "execution_count": null,
   "metadata": {},
   "outputs": [],
   "source": [
    "# Grafik oluşturma\n",
    "plt.plot(x, np.sin(x), label='sin', marker = 'x')\n",
    "plt.plot(x, np.cos(x), label='cos', marker= 'p')\n",
    "plt.plot(x, x**2, label='kare',color='red', marker='o', markersize=8)\n",
    "\n",
    "# Grafik özellikleri\n",
    "plt.title(\"Örnek Grafik\")\n",
    "plt.xlabel(\"X Ekseni\")\n",
    "plt.ylabel(\"Y Ekseni\")\n",
    "\n",
    "# Grafik gösterimi\n",
    "plt.show()"
   ]
  },
  {
   "cell_type": "markdown",
   "metadata": {},
   "source": [
    "Matplotlib, çizgi komutlarının marker parametresi kullanılarak seçilen birden fazla kategoriye sahip markerları destekler:\n",
    "\n",
    "- Doldurulmamış markerlar\n",
    "- Doldurulmuş markerlar\n",
    "- TeX sembollerinden oluşturulan markerlar\n",
    "- Yollardan oluşturulan markerlar\n",
    "\n",
    "\n",
    "**Doldurulmamış markerlar (Unfilled markers)**\n",
    "![](https://matplotlib.org/stable/_images/sphx_glr_marker_reference_001.png)\n",
    "**Doldurulmuş markerlar (Filled)**\n",
    "![](https://matplotlib.org/stable/_images/sphx_glr_marker_reference_002.png)\n",
    "**Marker fill styles**\n",
    "![](https://matplotlib.org/stable/_images/sphx_glr_marker_reference_003.png)\n",
    "**TeX sembollerinden oluşturulan markerlar**\n",
    "![](https://matplotlib.org/stable/_images/sphx_glr_marker_reference_004.png)\n",
    "**Yollardan oluşturulan markerlar**\n",
    "![](https://matplotlib.org/stable/_images/sphx_glr_marker_reference_005.png)"
   ]
  },
  {
   "cell_type": "markdown",
   "metadata": {},
   "source": [
    "### Eksenleri sınırlandırma ve işaretleme\n",
    "\n",
    "`xlim` ve `ylim`, bir grafikte gösterilen x ve y eksenlerinin sınırlarını belirlemek için kullanılan fonksiyonlardır.\n",
    "\n",
    "`xlim` ve `ylim` fonksiyonlarına verilen değerler, belirtilen eksenin en küçük ve en büyük değerlerini belirler. Örneğin, aşağıdaki kod bloğunda, xlim ve ylim kullanarak bir çizgi grafiğinin x ve y eksenlerinin sınırlarını ayarladık:"
   ]
  },
  {
   "cell_type": "code",
   "execution_count": null,
   "metadata": {},
   "outputs": [],
   "source": [
    "# x ve y verileri\n",
    "x = np.linspace(0, 10, 100)\n",
    "y = np.sin(x)\n",
    "\n",
    "# çizgi grafiği çizdirme\n",
    "plt.plot(x, y)\n",
    "\n",
    "# x ve y eksenlerinin sınırlarını belirleme\n",
    "plt.xlim([2, 8])\n",
    "plt.ylim([-1.2, 1.2])\n",
    "\n",
    "# grafiği gösterme\n",
    "plt.show()"
   ]
  },
  {
   "cell_type": "markdown",
   "metadata": {},
   "source": [
    "Bu örnekte, xlim([2, 8]) fonksiyonuyla x ekseni sınırları 2 ve 8 arasına, ylim([-1.2, 1.2]) fonksiyonuyla y ekseni sınırları -1.2 ve 1.2 arasına ayarlandı.\n",
    "\n",
    "`xticks` ve `yticks`, bir grafikteki x ve y eksenlerinin işaretlenmesini (tick) kontrol etmek için kullanılan fonksiyonlardır.\n",
    "\n",
    "`xticks` ve `yticks` fonksiyonları, aşağıdaki gibi kullanılabilir:"
   ]
  },
  {
   "cell_type": "code",
   "execution_count": null,
   "metadata": {},
   "outputs": [],
   "source": [
    "plt.plot(x, y)\n",
    "\n",
    "# x ve y ekseni işaretlerini ayarlama\n",
    "plt.xticks(np.arange(0, 11, step=2))\n",
    "plt.yticks([-1, 0, 1])\n",
    "\n",
    "# grafiği gösterme\n",
    "plt.show()"
   ]
  },
  {
   "cell_type": "markdown",
   "metadata": {},
   "source": [
    "Bu örnekte, xticks fonksiyonu ile x ekseni işaretlerinin aralıklarını belirliyoruz. np.arange(0, 11, step=2) ifadesi, x ekseni işaretlerinin 0'dan başlayarak 2'şer arttırılarak 10'a kadar olan sayılar olduğunu belirtir. yticks fonksiyonu ise, y ekseni işaretlerini belirliyoruz. [-1, 0, 1] ifadesi ile y ekseni işaretlerinin -1, 0 ve 1 olduğunu belirtiyoruz."
   ]
  },
  {
   "cell_type": "markdown",
   "metadata": {},
   "source": [
    "### Renk Haritası (Colormap) Özellikleri\n",
    "\n",
    "Matplotlib kütüphanesi, renk haritaları veya colormap olarak adlandırılan, verilerin renklendirilmesi için kullanılan özel renk paletlerini destekler. Colormap'lar, veri yoğunluğu veya sıcaklık, deniz seviyesi yüksekliği veya diğer özelliklerin belirtilmesi gibi verilerin özelliklerini vurgulamak için kullanılabilir.\n",
    "\n",
    "Matplotlib'teki çeşitli colormap'lar, farklı renk paletleri ve renk geçişleri sunar. Bazı örnek colormap'lar şunlardır:\n",
    "\n",
    "- viridis\n",
    "- plasma\n",
    "- inferno\n",
    "- magma\n",
    "- coolwarm\n",
    "\n",
    "Colormap'lar genellikle `plt.imshow()` veya `plt.pcolor()` gibi işlevlerle kullanılır. Colormap özellikleri, cmap parametresi veya renk paleti adı olarak belirtilerek seçilebilir.\n",
    "\n",
    "Bunun yanı sıra, colormap'ların skalasını özelleştirmek için farklı renk dönüşüm (color map transformation) işlevleri de kullanılabilir. Örneğin, `plt.Normalize()` işlevi, renk skalasının belirli bir aralığa ölçeklendirilmesine olanak tanır."
   ]
  },
  {
   "cell_type": "markdown",
   "metadata": {},
   "source": [
    "Aşağıdaki örnekte tablo verilerini renklendirmek için colormap kullanımına örnek olarak, bir heatmap oluşturalım. Veriler, farklı bölgelerin aylık ortalama sıcaklıklarını içeren bir numpy dizisinden alınacak."
   ]
  },
  {
   "cell_type": "code",
   "execution_count": null,
   "metadata": {},
   "outputs": [],
   "source": [
    "# Veri dizisi oluşturma\n",
    "data = np.array([[12, 13, 15, 20, 23, 27, 30, 29, 26, 21, 16, 13],\n",
    "                 [8, 9, 12, 17, 21, 25, 27, 26, 23, 18, 13, 9],\n",
    "                 [5, 6, 9, 14, 18, 23, 25, 25, 22, 17, 11, 7],\n",
    "                 [3, 4, 7, 11, 15, 19, 21, 21, 18, 13, 8, 5],\n",
    "                 [1, 2, 4, 7, 11, 15, 17, 17, 15, 11, 6, 3]])\n",
    "\n",
    "# Renk haritası (colormap) özelleştirme\n",
    "cmap = plt.cm.get_cmap('coolwarm')\n",
    "norm = plt.Normalize(vmin=data.min(), vmax=data.max())\n",
    "\n",
    "# Resim çizimi\n",
    "plt.imshow(data, cmap=cmap, norm=norm)\n",
    "\n",
    "# Renk skalası oluşturma\n",
    "cbar = plt.colorbar()\n",
    "cbar.ax.set_ylabel('Sıcaklık (°C)')\n",
    "\n",
    "# Eksen etiketleri ekleme\n",
    "plt.xticks(range(12), ['Oca', 'Şub', 'Mar', 'Nis', 'May', 'Haz', 'Tem', 'Ağu', 'Eyl', 'Eki', 'Kas', 'Ara'])\n",
    "plt.yticks(range(5), ['Bölge 1', 'Bölge 2', 'Bölge 3', 'Bölge 4', 'Bölge 5'])\n",
    "plt.xlabel('Aylar')\n",
    "plt.ylabel('Bölgeler')\n",
    "\n",
    "# Başlığı ekleme\n",
    "plt.title('Bölgelere Göre Aylık Ortalama Sıcaklıklar')\n",
    "\n",
    "# Resmi gösterme\n",
    "plt.show()"
   ]
  },
  {
   "cell_type": "markdown",
   "metadata": {},
   "source": [
    "Bu kod, `imshow()` işlevi kullanarak veri dizisini bir ısı haritası olarak gösterir. Veriler, coolwarm renk haritasına göre renklendirilir. `Normalize()` işlevi, verilerin minimum ve maksimum değerlerine göre normalleştirir. `colorbar()` işlevi, renk skalasını resmin yanına ekler. Sonuç olarak, verilerin özelliklerine ve sıcaklık değişimlerine göre vurgulanarak görsel olarak daha anlaşılır bir şekilde sunulur."
   ]
  },
  {
   "cell_type": "markdown",
   "metadata": {},
   "source": [
    "## Çoklu Figürler Çoklu Matplotlib Grafikleri\n",
    "\n",
    "Bazı durumlarda birden fazla grafik bir figür içerisinde verilmek istenebilir. Böylece tek seferde okuyucuya birden fazla durumla ilgili özet bilgi sunulmuş olunur. Daha önceden belirtilen Figure ve Axes kavramları kullanılarak Matplotlib içerisinde birden fazla grafik subplot() fonksiyonu ile yerine getirilebilir. \n",
    "\n",
    "Subplot() fonksiyonu ile istenilen sayıda satır ve sütunda grafikler figürlere eklenebilir.\n",
    "\n",
    "Subplot fonksiyonundan önce matplotlib kütüphanesindeki iki farklı yaklaşımdan bahsetmekte fayda vardır. Bunlar;\n",
    "\n",
    "### MATLAB tipi pyplot ile grafik çizdirme\n",
    "Pyplot ile çizdirilen grafik bir hücre için değiştirilebilir bir grafiktir. Başka hücrede yeni bir pyplot objesi eklenirse yeni grafikler çizdirilebilir. MATLAB programındakine benzer şekilde grafik çizdirme yöntemidir. Daha önce gösterilen grafikler pyplot ile çizdirilen grafiklerdi.\n",
    "\n",
    "### Nesne yönelimli şekilde grafik çizdirme.\n",
    "\n",
    "Matplotlib kütüphanesinin önemli özelliklerinden birisi de nesne yönelimli programlamaya izin vermesidir. Çizim alanı anlamına gelen ``Figure`` objesi Matplotlib kütüphanesinin tepesinde yer alır. Diğer elemanlar ise ``Artist`` diye bilinir ve aşağıdaki görselde gösterilen mavi yerler Artist olarak geçmektedir. Artistler Axes(Eksenler)den oluşur. Eksenler ise Axis öğelerinden oluşur.\n",
    "\n",
    "Eksenler(Axes) grafikleri tutan objelerdir. Bir grafik çizdirebilmek için en az bir eksenin figür içerisine eklenmesi gerekmektedir. Axis'ler ise x ve y aksis i olabilir ya da üçüncü boyut varsa z axis i de devreye girer. Bu nedenle x veya y deki limitleri veya çizgileri ayarlamak için axis özelliğini kullanmak gerekecektir. Matplotlib ile daha gelişmiş ve pratik grafik çizimleri için bu hiyerarşiyi anlamak faydalı olacaktır.\n",
    "\n",
    "Ayrıca nesne yönelimli yapı kullanılarak çok daha hızlı ve temiz grafikler çizilebilir. Hızlı grafik çizimleri için MATLAB stili grafik çizdirmek önerilse de daha detaylı işler için nesne yönelimli yapı önerilmektedir."
   ]
  },
  {
   "cell_type": "code",
   "execution_count": null,
   "metadata": {},
   "outputs": [],
   "source": [
    "# basit bir matplotlib grafiği\n",
    "fig, ax = plt.subplots()  # Tek eksenden oluşan bir figür oluşturmak için\n",
    "ax.plot([1, 2, 3, 4], [1, 4, 2, 3])  # Eksen içerisine bir grafik çizdirmek için"
   ]
  },
  {
   "cell_type": "code",
   "execution_count": null,
   "metadata": {},
   "outputs": [],
   "source": [
    "print(type(fig))"
   ]
  },
  {
   "cell_type": "code",
   "execution_count": null,
   "metadata": {},
   "outputs": [],
   "source": [
    "fig = plt.figure()  # Eksenin olmadığı bir figür\n",
    "fig, ax = plt.subplots()  # Tek eksenden oluşan bir figür\n",
    "fig, axs = plt.subplots(2, 2, sharex= True, sharey=True)  # 2x2 li bir grafik"
   ]
  },
  {
   "cell_type": "code",
   "execution_count": null,
   "metadata": {},
   "outputs": [],
   "source": [
    "fig, axs = plt.subplots(nrows= 3, ncols=2, sharex=True)  # 2x1 li bir grafik ve ortak x axis i"
   ]
  },
  {
   "cell_type": "code",
   "execution_count": null,
   "metadata": {},
   "outputs": [],
   "source": [
    "# Nesne yönelimli grafikler oluşturmak için aşağıdaki yapı kullanılabilir.\n",
    "fig, ax = plt.subplots()  # Bir eksenden oluşan bir figür oluşturduk.\n",
    "ax.plot(x, np.sin(x), label='sinüs')  # Eksenin içerisine grafik çizdirmek için\n",
    "ax.plot(x, np.cos(x), label='cosinüs')  # Aynı eksene başka grafik çizdirmek için\n",
    "ax.plot(x, x**2, label='kare')  # istenilen kadar grafik aynı eksene eklenebilir.\n",
    "ax.set_xlabel('x aksisi')  # Eksene x etiketi koymak için\n",
    "ax.set_ylabel('y aksisi')  # set_ylabel.\n",
    "ax.set_title(\"x ve y Grafiği\")  # Grafiğe başlık eklemek için.\n",
    "ax.legend()  # Etiketleri göstermek için."
   ]
  },
  {
   "cell_type": "code",
   "execution_count": null,
   "metadata": {},
   "outputs": [],
   "source": [
    "# ya da aynı işlemi daha önce gösterdiğimiz gibi de yapabilirdik.\n",
    "\n",
    "plt.plot(x, np.sin(x), label='sinüs')  # Eksenin içerisine grafik çizdirmek için\n",
    "plt.plot(x, np.cos(x), label='cosinüs')  # Aynı eksene başka grafik çizdirmek için\n",
    "plt.plot(x, x**2, label='kare')  # istenilen kadar grafik aynı eksene eklenebilir.\n",
    "plt.xlabel('x aksisi')  # set_xlabel değişti\n",
    "plt.ylabel('y aksisi')  # set_ylabel değişti.\n",
    "plt.title(\"x ve y Grafiği\")  # set_title değişti.\n",
    "plt.legend()  # Etiketleri göstermek için."
   ]
  },
  {
   "cell_type": "code",
   "execution_count": null,
   "metadata": {},
   "outputs": [],
   "source": [
    "fig, ax = plt.subplots(1, 2) # bir satır iki sütundan oluşan iki grafik ekledik.\n",
    "ax[0].plot(x, np.sin(x)) # ilk eksene grafik çizdirmek için\n",
    "ax[1].plot(x, np.cos(x)) # ikinci eksene grafik çizdirdik."
   ]
  },
  {
   "cell_type": "code",
   "execution_count": null,
   "metadata": {},
   "outputs": [],
   "source": [
    "type(ax)"
   ]
  },
  {
   "cell_type": "code",
   "execution_count": null,
   "metadata": {},
   "outputs": [],
   "source": [
    "fig, ax = plt.subplots(2, 2) # iki satır iki sütundan oluşan iki grafik ekledik.\n",
    "ax[0,0].plot(x, np.sin(x), label='sin') # birinci satır birinci sütundaki grafik\n",
    "ax[0][1].plot(x, np.cos(x)) # ikinci eksene grafik çizdirdik.\n",
    "ax[1][0].plot(x, x**2)\n",
    "ax[1][1].plot(x, x**3)"
   ]
  },
  {
   "cell_type": "code",
   "execution_count": null,
   "metadata": {},
   "outputs": [],
   "source": [
    "type(ax) # ax nesnesi bir NumPy dizisidir. İçerisinde Matplotlib nesneleri bulunmaktadır"
   ]
  },
  {
   "cell_type": "code",
   "execution_count": null,
   "metadata": {},
   "outputs": [],
   "source": [
    "type(ax[0][0])"
   ]
  },
  {
   "cell_type": "markdown",
   "metadata": {},
   "source": [
    "Aşağıdaki örnek, birden fazla figür oluşturma işlemini göstermektedir.\n",
    "\n",
    "Bu örnek, iki farklı figure oluşturur ve her figure içinde bir veya daha fazla subplot yerleştirir. `add_subplot()` fonksiyonu, figure içindeki subplotların yerleştirme düzenini belirlemek için kullanılır.\n",
    "\n",
    "Bu örnekte, ilk figure'da 2 satır ve 1 sütun olarak ayarlanmıştır ve ilk subplot 1. satırda, ikinci subplot 2. satırda yerleştirilmiştir. İkinci figure'da 1 satır ve 1 sütun olarak ayarlanmıştır ve tek bir subplot içermektedir.\n",
    "\n",
    "`plt.show()` fonksiyonu, tüm figürleri görüntülemek için kullanılır."
   ]
  },
  {
   "cell_type": "code",
   "execution_count": null,
   "metadata": {},
   "outputs": [],
   "source": [
    "# 1. Figure oluşturma\n",
    "fig1 = plt.figure()\n",
    "\n",
    "# 2. İlk subplot oluşturma\n",
    "ax1 = fig1.add_subplot(2, 1, 1) # 2 satır, 1 sütun, 1. subplot\n",
    "x = np.linspace(0, 10)\n",
    "y = np.sin(x)\n",
    "ax1.plot(x, y)\n",
    "ax1.set_title(\"Sinüs\")\n",
    "\n",
    "# 3. İkinci subplot oluşturma\n",
    "ax2 = fig1.add_subplot(2, 1, 2) # 2 satır, 1 sütun, 2. subplot\n",
    "y = np.cos(x)\n",
    "ax2.plot(x, y)\n",
    "ax2.set_title(\"Kosinüs\")\n",
    "\n",
    "# 4. İkinci figure oluşturma\n",
    "fig2 = plt.figure()\n",
    "\n",
    "# 5. Üçüncü subplot oluşturma\n",
    "ax3 = fig2.add_subplot(1, 1, 1) # 1 satır, 1 sütun, 1. subplot\n",
    "y = np.tan(x)\n",
    "ax3.plot(x, y)\n",
    "ax3.set_title(\"Tanjant\")\n",
    "\n",
    "# 6. Tüm figürleri gösterme\n",
    "plt.show()"
   ]
  },
  {
   "cell_type": "markdown",
   "metadata": {},
   "source": [
    "Başka bir örnekte MATLAB stili pyplot grafik çizdirmede birden fazla eksende grafik çizdirilmek istenirse aşağıdaki yapı kullanılabilir."
   ]
  },
  {
   "cell_type": "code",
   "execution_count": null,
   "metadata": {},
   "outputs": [],
   "source": [
    "plt.subplot(121) # Bir satır iki sütunlu bir yapıda birinci grafiği çizdir.\n",
    "plt.plot(x, np.sin(x))\n",
    "plt.subplot(122) # İkinci grafik\n",
    "plt.plot(x, np.cos(x))"
   ]
  },
  {
   "cell_type": "markdown",
   "metadata": {},
   "source": [
    "### Izgaralar ile Subplot çizdirme\n",
    "\n",
    "Yaygın kullanım için benzer ölçülerde eksenler ile çalışmak her ne kadar yeterli olsa da Matplotlib istenilen boyutlarda eksenler oluşturmak için imkan sunmaktadır. `plt.subplot()` fonksiyonu satır, sütun ve indeks değerlerinden oluşan 3 tam sayı değeri almaktaydı. Tam sayı değerleri eksenin kapsayacağı ızgara dilimi ile ilgili bilgiyi vermemektedir.  "
   ]
  },
  {
   "cell_type": "code",
   "execution_count": null,
   "metadata": {},
   "outputs": [],
   "source": [
    "for i in range(1,5):\n",
    "    print(i)\n",
    "    plt.subplot(2,2,i) # 2 satır 2 sütun eksenlerin i. ekseni\n",
    "    plt.text(0.5, 0.5, str(i))"
   ]
  },
  {
   "cell_type": "markdown",
   "metadata": {},
   "source": [
    "Birden fazla subplot çizdirmek için `plt.subplots()` fonksiyonu kullanılır. Bu durumda ızgara içerisindeki tüm konumlar kullanılabilir hale gelir. Yukarıdaki örneği ortak x ve y için yapmak istersek aşağıdaki yapıyı kullanabiliriz."
   ]
  },
  {
   "cell_type": "markdown",
   "metadata": {},
   "source": [
    "### plt.subplot2grid() fonksiyonu\n",
    "\n",
    "Izgaraların içerisine istenilen boyutlarda grafikler eklemek için subplot2grid() fonksiyonu kullanılabilir. Bu fonksiyon sırasıyla shape, location, rowspan, colspan parametrelerini alır.\n",
    "- shape: satır ve sütun değerleri alır. Birinci girdi satır sayısını ikinci girdi sütun sayısını gösterir.\n",
    "- loc: 2 tam sayı alır. Izgara içerisinde nereye yerleştirileceğini belirler.\n",
    "- rowspan: Sağ tarafa doğru ne kadar genişleyeceğini belirtir.\n",
    "- colspan: Aşağı doğru ne kadar genişleyeceğini belirler."
   ]
  },
  {
   "cell_type": "code",
   "execution_count": null,
   "metadata": {},
   "outputs": [],
   "source": [
    "a1 = plt.subplot2grid((3,3),(0,0),colspan = 2) # 3x3 lük bir ızgarada 1. satır birinci sütunda iki sütun git.\n",
    "a2 = plt.subplot2grid((3,3),(0,2), rowspan = 3)\n",
    "a3 = plt.subplot2grid((3,3),(1,0),rowspan = 2, colspan = 2)\n",
    "x = np.arange(1,10)\n",
    "a2.plot(x, x*x)\n",
    "a2.set_title('square')\n",
    "a1.plot(x, np.exp(x))\n",
    "a1.set_title('exp')\n",
    "a3.plot(x, np.log(x))\n",
    "a3.set_title('log')\n",
    "plt.tight_layout()\n",
    "plt.show()"
   ]
  },
  {
   "cell_type": "markdown",
   "metadata": {},
   "source": [
    "## Grafiklere Farklı Elemanlar Ekleme\n",
    "\n",
    "Grafikler içerisinde işaretleyici, metin, şekil gibi elemanlar eklenmek istenirse aşağıdaki yapılar kullanılabilir.\n",
    "\n",
    "### Metin Ekleme\n",
    "\n",
    "Daha önceden göserilen xlabel(), ylabel(), title() gibi fonksiyonlar figür içerisine metin eklemekte kullanılmıştı. Metin eklemek için `text()` fonksiyonu veya `annotate()` fonksiyonu kullanılabilir.\n",
    "\n",
    "`text()` fonksiyonu, belirtilen koordinatlara bir metin nesnesi ekler.\n",
    "\n",
    "`text(x, y, s, **kwargs)`\n",
    "\n",
    "Burada, x ve y koordinatları, metnin nerede başlayacağını belirler ve s argümanı, eklenecek olan metni içerir. İsteğe bağlı argümanlar arasında yazı tipi boyutu, renk, yazı tipi ve hizalama gibi metin özellikleri yer alabilir.\n",
    "\n",
    "`annotate()` fonksiyonu ise text() fonksiyonuna benzerdir ancak belirtilen noktaya işaretçi (ok) eklemek için daha uygun bir seçenektir.\n",
    "\n",
    "`annotate(s, xy, xytext, arrowprops=None, **kwargs)`\n",
    "Burada, s argümanı, eklenen metni içerir, xy argümanı, işaretçinin gösterileceği noktayı belirler ve xytext argümanı, metnin gösterileceği noktayı belirler. İsteğe bağlı arrowprops argümanı, işaretçi özelliklerini belirlemek için kullanılabilir."
   ]
  },
  {
   "cell_type": "code",
   "execution_count": null,
   "metadata": {},
   "outputs": [],
   "source": [
    "plt.plot([1,2,3])\n",
    "plt.text(1,2,\"x=1, y=2\", bbox={'facecolor': 'red', 'alpha': 0.1})\n",
    "plt.grid() # Konumları daha rahat görebilmek için"
   ]
  },
  {
   "cell_type": "code",
   "execution_count": null,
   "metadata": {},
   "outputs": [],
   "source": [
    "# Örnek veri\n",
    "x = np.linspace(0, 10, 100)\n",
    "y = np.sin(x)\n",
    "\n",
    "# Bir figür oluşturma ve eksenleri ayarlama\n",
    "fig, ax = plt.subplots()\n",
    "ax.plot(x, y)\n",
    "\n",
    "# Metin eklemek için text() fonksiyonunu kullanma\n",
    "ax.text(3, 0.5, \"Sinüs Grafiği\", fontsize=12, color=\"red\")\n",
    "\n",
    "# İşaretçi ile metin eklemek için annotate() fonksiyonunu kullanma\n",
    "ax.annotate(\"Maksimum\", xy=(np.pi/2, 1), xytext=(np.pi/2, 1.5),\n",
    "            fontsize=10, color=\"blue\",\n",
    "            arrowprops=dict(facecolor=\"blue\", arrowstyle=\"->\"))\n",
    "\n",
    "# Grafik gösterme\n",
    "plt.show()"
   ]
  },
  {
   "cell_type": "markdown",
   "metadata": {},
   "source": [
    "Bu örnek, bir sinüs grafiğine metin eklemeyi göstermektedir. `text()` fonksiyonu, Sinüs Grafiği metnini belirtilen koordinatlarda eklerken, annotate() fonksiyonu, maksimum noktaya işaretçi ile birlikte bir metin ekler."
   ]
  },
  {
   "cell_type": "markdown",
   "metadata": {},
   "source": [
    "### Legend() fonksiyonu\n",
    "\n",
    "Daha önce kullanılan bu fonksiyon ile daha önceden etiket verilmemiş olan grafiklere sırası ile etiket verilebilir. Konumu ile ilgili loc parametresine (best, upper right, upper left, right, center, lower center) gibi değerler verilebilir."
   ]
  },
  {
   "cell_type": "code",
   "execution_count": null,
   "metadata": {},
   "outputs": [],
   "source": [
    "plt.plot(x, np.sin(x))  \n",
    "plt.plot(x, np.cos(x))  \n",
    "plt.plot(x, x**2) \n",
    "plt.legend(['sinüs', 'cosinüs', 'kare'], loc = 'upper left')"
   ]
  },
  {
   "cell_type": "markdown",
   "metadata": {},
   "source": [
    "## Bazı Sihirli Fonksiyonlar\n",
    "\n",
    "Jupyter notebooklarda kullanılabilecek bir takım sihirli fonksiyonlar(magic functions) ile kolay bir kullanım sağlanabilir. Matplotlib kütüphanesinde kullanılabilecek sihirli fonksiyonlardan bazıları şu şekildedir.\n",
    "\n",
    "- %matplotlib inline sihirli komutu ile görsellerin notebook içerisinde gösterilmesi sağlanır.\n",
    "- %matplotlib notebook interaktif grafikler için kullanılır.\n",
    "- %matplotlib qt interaktif kullanımlar içindir."
   ]
  },
  {
   "cell_type": "code",
   "execution_count": null,
   "metadata": {},
   "outputs": [],
   "source": [
    "%matplotlib notebook"
   ]
  },
  {
   "cell_type": "code",
   "execution_count": null,
   "metadata": {},
   "outputs": [],
   "source": [
    "%matplotlib inline"
   ]
  },
  {
   "cell_type": "code",
   "execution_count": null,
   "metadata": {},
   "outputs": [],
   "source": [
    "plt.plot(x, np.sin(x))  \n",
    "plt.plot(x, np.cos(x))  \n",
    "plt.plot(x, x**2) \n",
    "plt.legend(['sinüs', 'cosinüs', 'kare'], loc = 'upper left')"
   ]
  },
  {
   "cell_type": "code",
   "execution_count": null,
   "metadata": {},
   "outputs": [],
   "source": [
    "%matplotlib inline"
   ]
  },
  {
   "cell_type": "code",
   "execution_count": null,
   "metadata": {},
   "outputs": [],
   "source": [
    "%pwd "
   ]
  },
  {
   "cell_type": "code",
   "execution_count": null,
   "metadata": {},
   "outputs": [],
   "source": [
    "# Diğer sihirli fonksiyonları listelemek için\n",
    "%lsmagic"
   ]
  },
  {
   "cell_type": "code",
   "execution_count": null,
   "metadata": {},
   "outputs": [],
   "source": [
    "# Örneğin whos sihirli fonksiyonu kullanılan değişkenleri listeler\n",
    "%whos"
   ]
  },
  {
   "cell_type": "markdown",
   "metadata": {},
   "source": [
    "## Grafiklerin Kaydedilmesi\n",
    "\n",
    "Çizimi bir pdf dosyasına ve bir jpeg resim dosyasına aktarmak oldukça kolaydır. Matplotlib'in farklı formatlar için geliştirilmiş fonksiyonları vardır.\n",
    "\n",
    "`savefig()` fonksiyonu kullanılarak grafik farklı dosya formatlarında kaydedilebilir. Bu fonksiyonun ilk parametresi dosyanın adı ve yoludur, ikinci parametresi ise dosya formatıdır."
   ]
  },
  {
   "cell_type": "code",
   "execution_count": null,
   "metadata": {},
   "outputs": [],
   "source": [
    "import matplotlib.pyplot as plt\n",
    "import numpy as np\n",
    "\n",
    "x = np.linspace(0, 2*np.pi, 100)\n",
    "y = np.sin(x)\n",
    "\n",
    "plt.plot(x, y)\n",
    "plt.xlabel('x')\n",
    "plt.ylabel('y')\n",
    "plt.title('Sinüs Fonksiyonu')\n",
    "\n",
    "plt.savefig('sinus_grafik.png', format='png')"
   ]
  },
  {
   "cell_type": "markdown",
   "metadata": {},
   "source": [
    "`savefig()` fonksiyonu çağrıldıktan sonra, oluşturulan grafiği kaydetmek için belirtilen dosya adı ve yoluna sahip bir dosya oluşturulur. İkinci parametre olan format parametresi, kaydedilen dosyanın hangi formatta kaydedileceğini belirtir. Bu parametre isteğe bağlıdır ve varsayılan olarak PNG formatında kaydeder.\n",
    "\n",
    "Ayrıca, dpi parametresi ile kaydedilen dosyanın çözünürlüğü de ayarlanabilir. \n",
    "\n",
    "- dpi=None: Görüntünün çözünürlüğü, örneğin 300 dpi(inç başına düşen nokta sayısı) <img src=\"https://i.vgy.me/Ty1ESY.png\">\n",
    "- transparent=False: True değeri verildiğinde grafiğin arka planı transparan hale getirilir.\n",
    "- bbox_inches=None, grafik çevresindeki sınırlar ile ilgilidir. bbox_inches='tight' genellikle ideal sonuçlar verir.\n",
    "\n",
    "PNG formatı internet kullanımları ve çizim grafikleri için daha uygundur. JPG formatı ise daha sıkıştırılmış bir resim formatıdır. Bu nedenle daha küçük boyutlarda görüntülerin kaydedilmesini sağlar. Eğer daha küçük boyutlu resimler ile çalışılmak isteniyorsa JPG formatı tercih edilebilir. SVG formatı ise vektörel görüntülerde kullanılan ve diğer formatlara göre boyutu yüksek bir seçimdir. "
   ]
  },
  {
   "cell_type": "code",
   "execution_count": null,
   "metadata": {},
   "outputs": [],
   "source": [
    "plt.plot(x, np.sin(x))\n",
    "plt.plot(x, np.cos(x))\n",
    "plt.plot(x, x**2)\n",
    "plt.legend(['sinüs', 'cosinüs', 'kare'], loc='upper left')\n",
    "plt.savefig('sin_cos_grafigi.png', dpi=300, bbox_inches='tight')"
   ]
  },
  {
   "cell_type": "markdown",
   "metadata": {},
   "source": [
    "Bu kod bloğunda, `dpi` parametresi 300 olarak ayarlandı ve `bbox_inches` parametresi kullanılarak grafiğin etrafındaki beyaz boşlukların otomatik olarak kırpması sağlandı."
   ]
  },
  {
   "cell_type": "code",
   "execution_count": null,
   "metadata": {},
   "outputs": [],
   "source": [
    "plt.plot(x, np.sin(x))  \n",
    "plt.plot(x, np.cos(x))  \n",
    "plt.plot(x, x**2) \n",
    "plt.legend(['sinüs', 'cosinüs', 'kare'], loc = 'upper left')\n",
    "plt.savefig('sin_cos_grafigi_transparent.png', dpi=300, transparent=True, figsize=(4, 4))"
   ]
  },
  {
   "cell_type": "markdown",
   "metadata": {},
   "source": [
    "`dpi` parametresi çözünürlüğü ayarlar, `bbox_inches` parametresi grafiğin kenar boşluklarını kırpar ve `figsize` parametresi grafiğin boyutunu ayarlar."
   ]
  },
  {
   "cell_type": "markdown",
   "metadata": {},
   "source": [
    "### .svg ve .pdf formatları\n",
    "\n",
    "PDF (Portable Document Format), Adobe Systems tarafından geliştirilmiş bir belge formatıdır. PDF formatındaki belgeler, farklı işletim sistemleri ve cihazlar arasında kolayca paylaşılabilir ve görüntülenebilir. Matplotlib, PDF formatında grafikleri kaydetmek için `savefig()` fonksiyonunu kullanır.\n",
    "\n",
    "Örneğin, aşağıdaki kod parçası, bir çizgi grafiğini grafik.pdf dosyasına kaydeder:"
   ]
  },
  {
   "cell_type": "code",
   "execution_count": null,
   "metadata": {},
   "outputs": [],
   "source": [
    "import matplotlib.pyplot as plt\n",
    "\n",
    "# Verileri oluşturma\n",
    "x = [1, 2, 3, 4, 5]\n",
    "y = [1, 4, 9, 16, 25]\n",
    "\n",
    "# Çizgi grafiği oluşturma\n",
    "plt.plot(x, y)\n",
    "\n",
    "# Grafiği PDF formatında kaydetme\n",
    "plt.savefig('grafik.pdf')"
   ]
  },
  {
   "cell_type": "markdown",
   "metadata": {},
   "source": [
    "SVG (Scalable Vector Graphics), XML tabanlı bir vektör grafik formatıdır. SVG formatı, vektör tabanlı grafikleri kaydetmek için kullanılır ve görüntülerin boyutunu, renklerini ve diğer özelliklerini korur. "
   ]
  },
  {
   "cell_type": "code",
   "execution_count": null,
   "metadata": {},
   "outputs": [],
   "source": [
    "import matplotlib.pyplot as plt\n",
    "\n",
    "# Verileri oluşturma\n",
    "x = [1, 2, 3, 4, 5]\n",
    "y = [1, 4, 9, 16, 25]\n",
    "\n",
    "# Çizgi grafiği oluşturma\n",
    "plt.plot(x, y)\n",
    "\n",
    "# Grafiği SVG formatında kaydetme\n",
    "plt.savefig('grafik.svg')"
   ]
  },
  {
   "cell_type": "markdown",
   "metadata": {},
   "source": [
    "Bu örneklerde `savefig()` fonksiyonu, çizgi grafiğini belirtilen dosya adı ve formatı ile kaydeder. format parametresi kullanılarak kaydedilecek dosya formatı belirtilir. Örneğin, `format='pdf'` şeklinde belirtilerek grafik PDF formatında kaydedilebilir."
   ]
  },
  {
   "cell_type": "markdown",
   "metadata": {},
   "source": [
    "Renk kodları ile hızlı bir şekilde grafikteki renkler değiştirilebilir. Renk kodları aşağıda paylaşılmıştır.\n",
    "\n",
    "- r(red)\n",
    "- g(green)\n",
    "- b(blue)\n",
    "- c(cyan)\n",
    "- k(black)\n",
    "- w(white)"
   ]
  },
  {
   "cell_type": "code",
   "execution_count": null,
   "metadata": {},
   "outputs": [],
   "source": [
    "plt.plot(x, np.sin(x))  \n",
    "plt.plot(x, np.cos(x))  \n",
    "plt.plot(x, x**2) \n",
    "plt.legend(['sinüs', 'cosinüs', 'kare'], loc = 'upper left')\n",
    "plt.savefig('sin_cos_grafigi_transparent.png', dpi=300, transparent=True, facecolor='b') # ön renk mavi"
   ]
  },
  {
   "cell_type": "markdown",
   "metadata": {},
   "source": [
    "## Grafik Çeşitleri ve Stiller\n",
    "\n",
    "Matplotlib kütüphanesi, birçok farklı grafik türü için çeşitli çizim fonksiyonları içerir. Bazı popüler grafik türleri şunlardır:\n",
    "\n",
    "1. Çizgi grafikleri (Line plots): Değişkenler arasındaki ilişkiyi göstermek için kullanılır.\n",
    "2. Dağılım grafikleri (Scatter plots): İki değişken arasındaki ilişkiyi göstermek için kullanılır.\n",
    "3. Histogramlar: Değişkenlerin dağılımını göstermek için kullanılır.\n",
    "4. Kutu grafikleri (Box plots): Değişkenlerin istatistiksel özelliklerini göstermek için kullanılır.\n",
    "5. Alan grafikleri (Area plots): Değişkenlerin zamana bağlı olarak değişimini göstermek için kullanılır.\n",
    "6. Pasta grafikleri (Pie charts): Kategorik verilerin oranlarını göstermek için kullanılır.\n",
    "7. Çubuk grafikleri (Bar charts): Kategorik verilerin karşılaştırılması için kullanılır."
   ]
  },
  {
   "cell_type": "markdown",
   "metadata": {},
   "source": [
    "Matplotlib'de birkaç grafik çeşidi özel tanımlı fonksiyonlar vardır. Bu fonksiyonlar, çeşitli grafik türlerini veya özellikleri oluşturmak için birkaç satır kodla çağrılabilen önceden tanımlanmış işlevlerdir. Bu fonksiyonlar, hızlı bir şekilde grafikler oluşturmak için yararlıdır.\n",
    "\n",
    "Bu fonksiyonlardan bazıları şunlardır:\n",
    "\n",
    "- `subplots()`: Bu fonksiyon, birden fazla grafik içeren bir figür oluşturmak için kullanılır. Belirtilen sayıda alt grafik oluşturur ve her alt grafik, figürün bir parçasıdır. Örneğin, fig, axs = plt.subplots(2, 3) kodu, 2 satır ve 3 sütundan oluşan bir alt grafik düzeni oluşturur.\n",
    "- `scatter()`: Bu fonksiyon, nokta bulutu grafikleri oluşturmak için kullanılır. Her bir nokta, verilerdeki iki boyutlu bir noktayı temsil eder. Örneğin, plt.scatter(x, y) kodu, x ve y verilerine dayalı bir nokta bulutu grafik oluşturur.\n",
    "- `bar()`: Bu fonksiyon, sütun grafikleri oluşturmak için kullanılır. Her bir sütun, verilerdeki bir değeri temsil eder. Örneğin, plt.bar(x, y) kodu, x değerlerine göre yüksekliği belirtilen sütunlar oluşturur.\n",
    "- `hist()`: Bu fonksiyon, histogramlar oluşturmak için kullanılır. Histogram, verilerin dağılımını göstermek için kullanılan bir grafik türüdür. Örneğin, plt.hist(x, bins=10) kodu, x verilerine dayalı 10 bölümlü bir histogram oluşturur.\n",
    "- `pie()`: Bu fonksiyon, pasta grafikleri oluşturmak için kullanılır. Her bir dilim, verilerdeki bir değeri temsil eder. Örneğin, plt.pie(x, labels=labels) kodu, x değerlerine göre etiketlenmiş bir pasta grafiği oluşturur."
   ]
  },
  {
   "cell_type": "markdown",
   "metadata": {},
   "source": [
    "### Çizgi grafikleri"
   ]
  },
  {
   "cell_type": "markdown",
   "metadata": {},
   "source": [
    "Çizgi grafikleri veri setlerindeki değişimleri zaman içinde izlemek ve trendleri belirlemek için kullanılır. İşletme verilerinde, finansal verilerde ve ekonomik verilerde sıklıkla kullanılırlar. Ayrıca, çok sayıda veri noktası arasındaki ilişkiyi göstermek için de yararlıdırlar.\n",
    "\n",
    "Çizgi grafiklerinin avantajları şunlardır:\n",
    "\n",
    "- Verilerin zaman içindeki değişimini net bir şekilde gösterirler.\n",
    "- Birden fazla veri seti arasındaki ilişkiyi kolayca anlamamızı sağlar.\n",
    "- Verilerin trendlerini ve değişimlerini hızlı bir şekilde anlayabiliriz.\n",
    "- Basit ve anlaşılır bir grafik türüdür.\n",
    "- Bu nedenlerle, işletmelerde, finansal kurumlarda ve ekonomi alanında sıklıkla kullanılan bir grafik türüdür.\n",
    "\n",
    "Tablo verilerinin belirli bir zaman aralığındaki değişimini görselleştirmek için çizgi grafikleri sıkça kullanılır. Örnek olarak, aylık gelirleri gösteren bir veri seti üzerinden bir çizgi grafiği çizelim."
   ]
  },
  {
   "cell_type": "code",
   "execution_count": null,
   "metadata": {},
   "outputs": [],
   "source": [
    "aylar = ['Ocak', 'Şubat', 'Mart', 'Nisan', 'Mayıs', 'Haziran']\n",
    "gelirler = [20000, 25000, 30000, 28000, 32000, 35000]\n",
    "plt.plot(aylar, gelirler, marker='o')\n",
    "plt.title('Aylık Gelirler')\n",
    "plt.xlabel('Aylar')\n",
    "plt.ylabel('Gelirler')\n",
    "plt.ylim(0, 40000)"
   ]
  },
  {
   "cell_type": "markdown",
   "metadata": {},
   "source": [
    "Bu kodları çalıştırdığımızda, aylık gelirlerimizi gösteren bir çizgi grafiği elde ederiz. Grafikte her ay için bir nokta ve bu noktaları birleştiren bir çizgi görüntülenir. Ayrıca grafiğimizde başlık, etiketler ve y-ekseni sınırları da vardır."
   ]
  },
  {
   "cell_type": "markdown",
   "metadata": {},
   "source": [
    "### Dağılım grafikleri"
   ]
  },
  {
   "cell_type": "markdown",
   "metadata": {},
   "source": [
    "Dağılım grafikleri, verilerin dağılımını görselleştirmek için kullanılır. Bu grafik türü, verilerin merkezi eğilimlerini, dağılımını ve aykırı değerlerini göstermek için kullanışlıdır. Dağılım grafikleri, veri setlerindeki değişkenlikleri ve dağılımları anlamak için özellikle yararlıdır."
   ]
  },
  {
   "cell_type": "markdown",
   "metadata": {},
   "source": [
    "### Histogram grafikleri"
   ]
  },
  {
   "cell_type": "markdown",
   "metadata": {},
   "source": [
    "Histogramlar, veri dağılımını görselleştirmek için kullanılan bir grafik türüdür. Özellikle büyük veri kümelerinde kullanılmaktadır. Histogramlar, verilerin belirli bir aralıktaki sıklığını ve yoğunluğunu gösterir.\n",
    "\n",
    "Histogramlar, birçok alanda kullanılabilir. Örneğin, finansal verileri incelemek için, hisse senedi fiyatlarının belirli bir aralıktaki dağılımını analiz etmek için kullanılabilirler. Ayrıca, tıp alanında, hastaların belirli bir özelliklerinin (örneğin, yaş veya kan basıncı) dağılımını incelemek için de kullanılabilirler.\n",
    "\n",
    "Histogramlar, veri dağılımını anlamak için oldukça yararlıdır. Verilerin nasıl dağıldığı, hangi aralıklarda yoğunlaştığı veya dağıldığı, hangi değerlerin daha yaygın olduğu gibi bilgileri görselleştirerek anlamak kolaylaşır. Ayrıca, histogramlar, veri setindeki aykırı değerleri de tespit etmek için kullanılabilir.\n",
    "\n",
    "Histogramların bir diğer avantajı, veri kümesinin şekil ve boyutuna göre özelleştirilebilmesidir. Böylece, verilerin daha iyi anlaşılmasını sağlayacak bir histogram oluşturulabilir."
   ]
  },
  {
   "cell_type": "code",
   "execution_count": null,
   "metadata": {},
   "outputs": [],
   "source": [
    "kadin_yaslar = np.random.randint(low=1,high=75,size=100)\n",
    "plt.hist(kadin_yaslar,label='kadın yaşları')\n",
    "plt.legend()"
   ]
  },
  {
   "cell_type": "markdown",
   "metadata": {},
   "source": [
    "Bu örnekte histogram, `plt.hist()` fonksiyonu ile çizildi. Histogramda kullanılan parametreler arasında, `density=True` seçeneği histogramın yoğunluk çizimini gösterirken, facecolor parametresi histogramın dolgu rengini belirler. "
   ]
  },
  {
   "cell_type": "code",
   "execution_count": null,
   "metadata": {},
   "outputs": [],
   "source": [
    "plt.hist(kadin_yaslar,label='kadın yaşları', alpha=0.5)\n",
    "plt.hist(erkek_yaslar,label='erkek yaşları', alpha=0.5)\n",
    "plt.legend()"
   ]
  },
  {
   "cell_type": "code",
   "execution_count": null,
   "metadata": {},
   "outputs": [],
   "source": [
    "plt.hist([erkek_yaslar, kadin_yaslar], label=['erkek', 'kadin'])\n",
    "plt.legend()"
   ]
  },
  {
   "cell_type": "markdown",
   "metadata": {},
   "source": [
    "Aynı şekilde histogram grafikleri olasılık yoğunluk fonksiyonlarının çizdirilmesinde de kullanılabilir. Örneğin normal dağılıma uyan bir veri dizisinin grafiği aşağıdaki çizdirilebilir."
   ]
  },
  {
   "cell_type": "code",
   "execution_count": null,
   "metadata": {},
   "outputs": [],
   "source": [
    "np.random.seed(12345)\n",
    "x_normal = np.random.normal(size=100) # normal dağılıma uyan 100 veri\n",
    "plt.hist(x_normal, density=True, bins=30)  # `density=False` sayıları alacaktı. Oranları aldık\n",
    "plt.ylabel('Olasılıklar')\n",
    "plt.xlabel('Veriler');"
   ]
  },
  {
   "cell_type": "code",
   "execution_count": null,
   "metadata": {},
   "outputs": [],
   "source": [
    "np.random.seed(12345)\n",
    "x_normal = np.random.normal(size=1000000) # normal dağılıma uyan 10000 veri\n",
    "plt.hist(x_normal, density=True, bins=30)  # `density=False` sayıları alacaktı. Oranları aldık\n",
    "plt.ylabel('Olasılıklar')\n",
    "plt.xlabel('Veriler');"
   ]
  },
  {
   "cell_type": "markdown",
   "metadata": {},
   "source": [
    "### Kutu grafikleri"
   ]
  },
  {
   "cell_type": "markdown",
   "metadata": {},
   "source": [
    "Kutu grafiği, verilerin dağılımını ve değişkenliğini görselleştirmek için kullanılan bir grafik türüdür. En yaygın kullanımı, farklı kategoriler veya gruplar arasındaki sayısal verilerin karşılaştırılmasıdır. Ayrıca, verilerin aykırı (outlier) değerlerini belirlemek ve ortalamadan sapmaları görselleştirmek için de kullanılabilir.\n",
    "\n",
    "Kutu grafikleri, aşağıdaki avantajlara sahiptir:\n",
    "\n",
    "- Görselleştirme açısından kolaydır ve verilerin dağılımını hızlı bir şekilde anlamamızı sağlar.\n",
    "- Aykırı değerleri (outlier) belirlemede ve veriler arasındaki değişkenliği göstermede etkilidir.\n",
    "- Farklı gruplar veya kategoriler arasındaki sayısal verilerin karşılaştırılması için idealdir.\n",
    "\n",
    "Kullanım örneği olarak, bir şirketin farklı bölümlerinin aylık satış verilerini karşılaştırmak istediğimizi düşünelim. Kutu grafiği, farklı bölümlerin satış verilerinin ortalamasını, medyanını, minimum ve maksimum değerlerini, ayrık değerlerini ve verilerin dağılımını göstererek kolayca karşılaştırmamıza olanak sağlayacaktır."
   ]
  },
  {
   "cell_type": "code",
   "execution_count": null,
   "metadata": {},
   "outputs": [],
   "source": [
    "# Verileri oluşturma\n",
    "bolumler = ['Finans', 'Satış', 'Pazarlama', 'Muhasebe']\n",
    "veriler = [[25000, 35000, 40000, 45000, 50000], \n",
    "           [30000, 35000, 40000, 45000, 55000],\n",
    "           [20000, 25000, 35000, 40000, 45000],\n",
    "           [15000, 20000, 25000, 30000, 35000]]\n",
    "\n",
    "# Kutu grafiği oluşturma\n",
    "plt.boxplot(veriler)\n",
    "plt.xticks(range(len(bolumler)), bolumler)\n",
    "plt.xlabel('Bölümler')\n",
    "plt.ylabel('Aylık Satış')\n",
    "plt.title('Bölümler Arasındaki Aylık Satış Farklılıkları')\n",
    "plt.show()\n"
   ]
  },
  {
   "cell_type": "markdown",
   "metadata": {},
   "source": [
    "Bu kod, farklı bölümlerin aylık satış verilerinin kutu grafiğini oluşturacak ve her bir bölüm için ayrı bir kutu oluşturarak verilerin karşılaştırılmasına olanak sağlayacaktır."
   ]
  },
  {
   "cell_type": "markdown",
   "metadata": {},
   "source": [
    "### Alan grafikleri"
   ]
  },
  {
   "cell_type": "markdown",
   "metadata": {},
   "source": [
    "Alan grafiği, verilerin belirli bir aralıktaki değişimlerini göstermek için kullanılan bir grafik türüdür. Genellikle zamana bağlı değişimlerin gösterilmesinde tercih edilir ve verilerin toplamını veya yüzdesini de gösterir.\n",
    "\n",
    "Alan grafiklerinin avantajları şunlardır:\n",
    "\n",
    "- Zamanla değişen verilerin görselleştirilmesi için idealdir.\n",
    "- Verilerin toplamını veya yüzdesini göstererek, toplamın ne kadarını hangi kategoride harcadığımızı anlamamızı sağlar.\n",
    "- Birden fazla veri seti arasındaki ilişkiyi göstermek için kullanılabilir.\n",
    "- Verilerin dağılımını gösterirken, grafikteki renkler ve gölgelendirme yardımıyla görsel olarak daha çekici hale getirilebilir.\n",
    "\n",
    "Örnek kullanımı aşağıdaki gibi olabilir:"
   ]
  },
  {
   "cell_type": "code",
   "execution_count": null,
   "metadata": {},
   "outputs": [],
   "source": [
    "# Verileri oluşturma\n",
    "yil = [2016, 2017, 2018, 2019, 2020]\n",
    "gelir = [10000, 15000, 20000, 25000, 30000]\n",
    "gider = [5000, 8000, 10000, 15000, 20000]\n",
    "\n",
    "# Alan grafiği oluşturma\n",
    "plt.stackplot(yil, gelir, gider, labels=['Gelir', 'Gider'])\n",
    "plt.legend(loc='upper left')\n",
    "plt.title('Gelir ve Giderler')\n",
    "plt.xlabel('Yıl')\n",
    "plt.ylabel('Tutar')\n",
    "plt.show()"
   ]
  },
  {
   "cell_type": "markdown",
   "metadata": {},
   "source": [
    "### Pasta grafikleri"
   ]
  },
  {
   "cell_type": "markdown",
   "metadata": {},
   "source": [
    "Pasta grafikleri, bir veri kümesindeki oranları görselleştirmek için kullanılan grafik türleridir. Pasta grafikleri, her bir veri kategorisi için yüzde veya mutlak sayısal değerler kullanarak, her bir kategori arasındaki oranları kolayca anlamamızı sağlar.\n",
    "\n",
    "Pasta grafikleri ayrıca şunlara da yardımcı olabilir:\n",
    "\n",
    "- Bir veri kümesindeki dağılımı anlamak\n",
    "- Toplamın ne kadarını her kategorinin temsil ettiğini anlamak\n",
    "- Farklı veri kategorileri arasındaki oranları karşılaştırmak\n",
    "\n",
    "Örneğin, bir şirketin müşterilerinin demografik dağılımını göstermek istediğinizi varsayalım. Pasta grafikleri bu verileri kolayca görselleştirmenize yardımcı olabilir. Ayrıca, bir ürün veya hizmetin farklı pazar segmentleri arasındaki payını göstermek için de kullanılabilir.\n",
    "\n",
    "İşte bir pasta grafik örneği:"
   ]
  },
  {
   "cell_type": "code",
   "execution_count": null,
   "metadata": {},
   "outputs": [],
   "source": [
    "# Verileri oluşturma\n",
    "kategoriler = ['Erkek', 'Kadın', 'Diğer']\n",
    "oranlar = [60, 35, 5]\n",
    "\n",
    "# Pasta grafik oluşturma\n",
    "plt.pie(oranlar, labels=kategoriler, autopct='%1.1f%%')\n",
    "\n",
    "# Grafik özellikleri\n",
    "plt.title('Müşteri Demografisi')\n",
    "plt.axis('equal')\n",
    "\n",
    "# Grafiği gösterme\n",
    "plt.show()\n"
   ]
  },
  {
   "cell_type": "markdown",
   "metadata": {},
   "source": [
    "Bu örnek, bir şirketin müşteri tabanının demografik dağılımını göstermek için bir pasta grafik kullanır. \"Erkek\", \"Kadın\" ve \"Diğer\" kategorileri için oranları gösterir ve her bir dilimde yüzde değerlerini görüntüler."
   ]
  },
  {
   "cell_type": "markdown",
   "metadata": {},
   "source": [
    "### Çubuk grafikleri"
   ]
  },
  {
   "cell_type": "markdown",
   "metadata": {},
   "source": [
    "Çubuk grafikleri yaygın bir kullanıma sahiptir. Histogram grafiklerinden farklı yanı x aksisindeki değerlerin kategorik değil nümerik değerler almasıdır. bar() fonksiyonu ile çizim yapılabilir. Diğer grafiklerdeki benzer parametreler burada da geçerlidir. Örneğin align parametresi ile verinin çubuğun ortasından geçmesi istendiği durumda kullanılabilir. Ya da orientation parametresi ile çubuklar dikey eksende mi olsun yatay eksende mi bununla ilgili ayarlama için kullanılabilir. Genellikle ölçüm değerinin nasıl değiştiği görülmek için kullanılır. x değerlerine karşılık gelen y değerlerine kadar bir çubuk çizilir. "
   ]
  },
  {
   "cell_type": "code",
   "execution_count": null,
   "metadata": {},
   "outputs": [],
   "source": [
    "x1_koordinatlari = np.random.randint(10, size=20)\n",
    "y1_koordinatlari = np.random.randint(5,size=20)\n",
    "\n",
    "x2_koordinatlari = np.random.randint(10, size=20)\n",
    "y2_koordinatlari = np.random.randint(5,size=20)\n",
    "\n",
    "plt.bar(x1_koordinatlari,y1_koordinatlari,label='grup 1') "
   ]
  },
  {
   "cell_type": "markdown",
   "metadata": {},
   "source": [
    "Bunun yanı sıra çubuk grafikleri kategorik veriler için de kullanılabilir. Bunun için; "
   ]
  },
  {
   "cell_type": "code",
   "execution_count": null,
   "metadata": {
    "scrolled": true
   },
   "outputs": [],
   "source": [
    "x_bar = np.random.randint(5,size=5)\n",
    "plt.barh(x_bar, np.arange(5))\n",
    "plt.xticks(np.arange(5),['bir','iki','üç','dört','beş']) # kategoriler ayrıca verilebilir."
   ]
  },
  {
   "cell_type": "markdown",
   "metadata": {},
   "source": [
    "Diğer grafik çeşitleri\n",
    "\n",
    "- pie pasta grafikleri\n",
    "- scatter dağılım grafikleri \n",
    "- boxplot kutu grafikleri"
   ]
  },
  {
   "cell_type": "markdown",
   "metadata": {},
   "source": [
    "### Kelime bulutları\n",
    "\n",
    "Kelime bulutu, bir metin belgesinde geçen kelimelerin frekans dağılımını görselleştirmek için kullanılır. Genellikle, kelime bulutu oluşturma işlemi şu adımları içerir:\n",
    "\n",
    "1. Metnin yüklenmesi ve işlenmesi: Kelime bulutu oluşturmak için öncelikle metin belgesinin yüklenmesi ve işlenmesi gerekir. Bu işlem, metnin önceden belirlenmiş bir dil işleme adımından geçirilmesi ile gerçekleştirilir. Bu adım, kelime ayıklama, özel karakterlerin kaldırılması ve ayrıştırma işlemlerini içerebilir.\n",
    "2. Kelime frekanslarının hesaplanması: Metnin işlenmesinden sonra, belgedeki her kelimenin frekansı hesaplanır. Bu, kelimenin belgedeki toplam sayısıdır.\n",
    "3. Kelime bulutu oluşturma: Hesaplanan kelime frekansları, kelime bulutu oluşturmak için kullanılır. Kelimeler, büyükten küçüğe doğru sıralanır ve en sık kullanılan kelimeler daha büyük yazı tipiyle gösterilir.\n",
    "4. Kelime bulutları, özellikle sosyal medya analizi, web sayfası içeriği analizi ve pazarlama kampanyalarında kullanılan bir veri görselleştirme aracıdır."
   ]
  },
  {
   "cell_type": "markdown",
   "metadata": {},
   "source": [
    "### 3D grafikler\n",
    "\n",
    "Matplotlib kütüphanesi, 3 boyutlu verileri görselleştirmek için de kullanılabilir. Bu işlem için `mplot3d` alt paketi kullanılır. Bu alt paket sayesinde, 3 boyutlu grafikler oluşturmak için gerekli araçlar sağlanır.\n",
    "\n",
    "Öncelikle, `mplot3d` paketini kullanarak 3 boyutlu grafikler için gerekli araçları içe aktaralım:"
   ]
  },
  {
   "cell_type": "code",
   "execution_count": null,
   "metadata": {},
   "outputs": [],
   "source": [
    "from mpl_toolkits.mplot3d import Axes3D\n",
    "import matplotlib.pyplot as plt\n",
    "fig = plt.figure()\n",
    "ax = fig.add_subplot(111, projection='3d')\n",
    "x = [1,2,3,4,5]\n",
    "y = [2,3,4,5,6]\n",
    "z = [0,1,2,3,4]\n",
    "ax.scatter(x, y, z)\n",
    "ax.set_xlabel('X Label')\n",
    "ax.set_ylabel('Y Label')\n",
    "ax.set_zlabel('Z Label')\n",
    "plt.show()"
   ]
  },
  {
   "cell_type": "markdown",
   "metadata": {},
   "source": [
    "Bir başka örnek verelim. Burada `add_subplot()` fonksiyonu kullanılarak, 1 satır ve 1 sütundan oluşan bir alt çizim alanı oluşturulur ve projection parametresine \"3d\" değeri verilerek, 3 boyutlu bir alt çizim alanı oluşturulur.\n",
    "\n",
    "3 boyutlu bir grafik çizdirmek için, `plot()` fonksiyonunun yerine `plot_wireframe()` fonksiyonu kullanılabilir. Bu fonksiyon, bir kablosuz çerçeve (wireframe) çizgisi şeklinde verileri görselleştirir.\n",
    "\n",
    "Örneğin, aşağıdaki kod bloğunda, `plot_wireframe()` fonksiyonu kullanılarak bir kürenin yüzeyi çizdirilir:"
   ]
  },
  {
   "cell_type": "code",
   "execution_count": null,
   "metadata": {
    "scrolled": true
   },
   "outputs": [],
   "source": [
    "import numpy as np\n",
    "import matplotlib.pyplot as plt\n",
    "from mpl_toolkits import mplot3d\n",
    "\n",
    "fig = plt.figure(figsize=(8, 6))\n",
    "ax = fig.add_subplot(111, projection=\"3d\")\n",
    "\n",
    "u = np.linspace(0, 2 * np.pi, 100)\n",
    "v = np.linspace(0, np.pi, 100)\n",
    "\n",
    "x = 10 * np.outer(np.cos(u), np.sin(v))\n",
    "y = 10 * np.outer(np.sin(u), np.sin(v))\n",
    "z = 10 * np.outer(np.ones(np.size(u)), np.cos(v))\n",
    "\n",
    "ax.plot_wireframe(x, y, z, color=\"b\")\n",
    "\n",
    "plt.show()"
   ]
  },
  {
   "cell_type": "markdown",
   "metadata": {},
   "source": [
    "Bu örnekte, `np.outer()` fonksiyonu kullanarak, kürenin yüzeyine ait x, y ve z koordinatları hesaplanır ve `plot_wireframe()` fonksiyonu kullanılarak bu koordinatlar kullanılarak bir kablosuz çerçeve çizdirilir. Son olarak, `show()` fonksiyonu kullanılarak grafik ekrana çizdirilir.\n",
    "\n",
    "Bu şekilde, mplot3d paketi ile 3 boyutlu grafikler oluşturabilirsiniz."
   ]
  },
  {
   "cell_type": "markdown",
   "metadata": {},
   "source": [
    "### Stil dosyaları\n",
    "\n",
    "Matplotlib kütüphanesinde bir dokümanda düzenli bir şekilde renk ve görsel seçenekleri kullanmak için stiller kullanılmaktadır. Kütüphane içerisindeki stil dosyaları `plt.style.available` komutu ile gösterilebilir. Tercih edilen stil `plt.style.use()` komutu ile seçilebilir. Bir dokümanda çizilen grafiklerin renkleri, yazı fontları, font büyüklükleri, ızgara şekilleri gibi tasarım özelliklerinin benzer şekilde olması beklenir. \n",
    "\n",
    "Diğer stiller ile ilgili bilgi [şu adresten](https://matplotlib.org/stable/gallery/style_sheets/style_sheets_reference.html) alınabilir."
   ]
  },
  {
   "cell_type": "code",
   "execution_count": null,
   "metadata": {},
   "outputs": [],
   "source": [
    "plt.style.available"
   ]
  },
  {
   "cell_type": "code",
   "execution_count": null,
   "metadata": {},
   "outputs": [],
   "source": [
    "plt.style.use('seaborn')"
   ]
  },
  {
   "cell_type": "markdown",
   "metadata": {},
   "source": [
    "\n",
    "![](https://matplotlib.org/stable/_images/sphx_glr_style_sheets_reference_001.png)\n",
    "![](https://matplotlib.org/stable/_images/sphx_glr_style_sheets_reference_002.png)\n",
    "![](https://matplotlib.org/stable/_images/sphx_glr_style_sheets_reference_003.png)\n",
    "![](https://matplotlib.org/stable/_images/sphx_glr_style_sheets_reference_004.png)\n",
    "![](https://matplotlib.org/stable/_images/sphx_glr_style_sheets_reference_005.png)\n",
    "![](https://matplotlib.org/stable/_images/sphx_glr_style_sheets_reference_006.png)\n",
    "![](https://matplotlib.org/stable/_images/sphx_glr_style_sheets_reference_008.png)"
   ]
  },
  {
   "cell_type": "code",
   "execution_count": null,
   "metadata": {},
   "outputs": [],
   "source": [
    "%matplotlib inline"
   ]
  },
  {
   "cell_type": "code",
   "execution_count": null,
   "metadata": {},
   "outputs": [],
   "source": [
    "np.random.seed(12345)\n",
    "x_normal = np.random.normal(size=10000) # normal dağılıma uyan 10000 veri\n",
    "plt.hist(x_normal, density=True, bins=30)  # `density=False` sayıları alacaktı. Oranları aldık\n",
    "plt.ylabel('Olasılıklar')\n",
    "plt.xlabel('Veriler')"
   ]
  },
  {
   "cell_type": "code",
   "execution_count": null,
   "metadata": {},
   "outputs": [],
   "source": [
    "np.random.seed(12345)\n",
    "x_normal = np.random.normal(size=10000) # normal dağılıma uyan 10000 veri\n",
    "plt.hist(x_normal, density=True, bins=30)  # `density=False` sayıları alacaktı. Oranları aldık\n",
    "plt.ylabel('Olasılıklar')\n",
    "plt.xlabel('Veriler')"
   ]
  },
  {
   "cell_type": "code",
   "execution_count": null,
   "metadata": {},
   "outputs": [],
   "source": [
    "# varsayılanlar belirlemek\n",
    "plt.rcParams['lines.linewidth']=2.0 # tüm çizgiler bu çizgi genişliğine sahip olur"
   ]
  },
  {
   "cell_type": "markdown",
   "metadata": {},
   "source": [
    "## Veri görselleştirmede ipuçları\n",
    "\n",
    "Matplotlib'i veri görselleştirme için kullanmak, verilerinizdeki bilgileri ve desenleri etkili bir şekilde iletmek için güçlü bir araç olabilir. Ancak, herhangi bir araç gibi, en iyi sonucu elde etmek için doğru kullanmak önemlidir. Matplotlib kullanırken aklınızda bulundurmanız gereken bazı en iyi uygulamalar şunlardır:\n",
    "\n",
    "1. Basit tutun: Grafiklerinizi fazla sayıda öğe veya gereksiz ayrıntı ile karmaşık hale getirmekten kaçının. Mesajınızı iletmeye yardımcı olan temel bilgilerle sınırlı kalın.\n",
    "2. Doğru grafik türünü seçin: Farklı grafik türleri, farklı veri türleri ve mesajlar için daha uygun olabilir. Örneğin, bir çizgi grafiği zaman içindeki eğilimleri göstermek için daha iyidir, bir bar grafiği ise kategorileri karşılaştırmak için daha iyidir.\n",
    "3. Renkleri etkili kullanın: Renk, önemli bilgileri vurgulamak için güçlü bir araç olabilir, ancak ölçülü kullanılmalıdır. Kolayca ayırt edilebilen renkler seçin ve çok fazla farklı renk kullanmaktan kaçının.\n",
    "4. Eksenlerinizi etiketleyin: Eksenlerinizdeki birimleri ve ölçekleri net bir şekilde etiketleyin, böylece izleyicileriniz verileri anlayabilirler. \n",
    "5. Başlık ve açıklama ekleyin: Başlık ve açıklama, grafiğinizin ana mesajını açıklamanıza ve bağlam sağlamanıza yardımcı olabilir.\n",
    "6. Bu en iyi uygulamaları aklınızda bulundurarak, veri görselleştirmelerinizin net, etkili ve anlaşılır olduğundan emin olabilirsiniz.\n",
    "\n",
    "Ayrıca, veri görselleştirmede Matplotlib'i kullanırken performansı da göz önünde bulundurmak önemlidir. Büyük miktarda veri ile uğraşırken, çizim süresi ve bellek kullanımını dikkate almak önemlidir.\n",
    "\n",
    "Performansı iyileştirmenin bir yolu, `matplotlib.pyplot.xlim()` ve `matplotlib.pyplot.ylim()` yöntemlerini kullanarak sırasıyla x ve y eksenlerinin sınırlarını belirlemektir. Bu, çizilecek veri miktarını azaltarak çizim performansını iyileştirebilir.\n",
    "\n",
    "Başka bir yol, birden çok figür yerine tek bir figürde birden çok grafik oluşturmak için `matplotlib.pyplot.subplots()` işlevini kullanmaktır. Bu, bellek kullanımını azaltarak çizim performansını artırabilir.\n",
    "\n",
    "Bu en iyi uygulamaları ve ipuçlarını takip ederek, Matplotlib kullanırken veri görselleştirmelerinizin hem etkili hem de verimli olmasını sağlayabilirsiniz.\n",
    "\n",
    "### Doğru görselleştirme şeklini belirleme\n",
    "\n",
    "Veriler için doğru görselleştirme şekli, verilerin türüne, boyutuna, özelliklerine ve anlatmak istediğiniz hikayeye bağlı olarak değişebilir. Bazı veriler, örneğin sayısal veriler, çizgi grafiği veya histogram gibi nicel grafiklerle daha iyi anlaşılabilirken, diğerleri, örneğin kategorik veriler, pasta grafikleri veya kutu grafikleri gibi nitel grafiklerle daha iyi anlaşılabilir.\n",
    "\n",
    "Doğru görselleştirme şeklini belirlemek için aşağıdaki faktörleri dikkate alabilirsiniz:\n",
    "\n",
    "- Verilerin tipi: Sayısal veriler, kategorik veriler, zaman serileri vb. farklı görselleştirme teknikleri gerektirir.\n",
    "- Verilerin boyutu: Verileriniz ne kadar büyükse, daha karmaşık görselleştirme teknikleri gerektirebilirsiniz.\n",
    "- Verilerin dağılımı: Verilerinizin dağılımı, verilerinizi nasıl görselleştireceğinizi etkileyebilir. Örneğin, normal dağılıma sahip veriler için histogram kullanmak doğru olabilirken, çarpık dağılıma sahip veriler için kutu grafikleri daha uygun olabilir.\n",
    "- Mesajınız: Görselleştirmenin amacı nedir? Verilerinizde hangi mesajı vermek istiyorsunuz? Verilerinizin hikayesini en iyi anlatan görselleştirmeyi seçmelisiniz.\n",
    "\n",
    "Doğru görselleştirme şeklini seçmek, verilerinizin en iyi şekilde anlaşılmasını sağlar ve hikayenizi en iyi şekilde anlatmanıza yardımcı olacaktır."
   ]
  },
  {
   "cell_type": "markdown",
   "metadata": {},
   "source": [
    "## Seaborn Kütüphanesi\n",
    "\n",
    "Seaborn, Python'da veri görselleştirme için kullanılan bir kütüphanedir. Matplotlib kütüphanesi temelde kullanılan grafiklerin yanı sıra, Seaborn kütüphanesi daha özel ve daha karmaşık grafiklerin oluşturulmasına yardımcı olur.\n",
    "\n",
    "\n",
    "### Seaborn ve Matplotlib\n",
    "\n",
    "Seaborn ve Matplotlib, veri görselleştirme için Python dilinde kullanılan iki popüler kütüphanedir. Matplotlib, Python topluluğunun uzun süredir kullandığı bir kütüphanedir ve temel grafik türlerini çizmek için kullanılır. Seaborn ise Matplotlib'e dayanarak, daha karmaşık görselleştirme tekniklerine odaklanan daha yeni bir kütüphanedir.\n",
    "\n",
    "- Seaborn, Matplotlib'in üzerine inşa edildiği için Matplotlib'i de kullanır. Ancak Seaborn, daha yüksek seviye araçlar sunar ve Matplotlib'den daha az kod yazmayı gerektirir. Örneğin, Seaborn ile daha karmaşık görselleştirmeleri yapmak daha kolaydır ve daha az ayarlama gerektirir. Seaborn, renkli grafikleri kolayca oluşturmak için önceden tanımlanmış renk paletleri de içerir.\n",
    "- Matplotlib daha esnek bir yapıya sahiptir ve daha özelleştirilmiş grafikler oluşturmak için kullanılabilir. Matplotlib ile çok daha fazla özelleştirme yapılabilir ve her yönü tam olarak kontrol edilebilir.\n",
    "- Seaborn, Matplotlib'in daha yüksek seviye araçlarına odaklanırken, Matplotlib daha özelleştirilmiş grafikler için daha fazla seçenek sunar. Seaborn ve Matplotlib birlikte kullanılabilir ve veri görselleştirme için güçlü bir kombinasyon sağlar.\n",
    "- Seaborn, özellikle istatistiksel veri görselleştirmesi için tasarlanmıştır ve Matplotlib'den daha yüksek seviyeli bir arayüz sağlar. Buna ek olarak, Seaborn, renk paletleri, özel grafikler ve istatistiksel gösterimler için önceden tanımlanmış tema ve stiller gibi birçok özellik sunar.\n",
    "- Seaborn ayrıca, regresyon analizi, faktör analizi ve kümeleme analizi gibi veri analizi tekniklerini de içeren birçok özel grafik fonksiyonuna sahiptir.\n",
    "\n",
    "\n",
    "Özellikle, Seaborn kütüphanesi aşağıdaki görselleştirme türlerini içerir:\n",
    "\n",
    "- Çizgi Grafikleri\n",
    "- Dağılım Grafikleri\n",
    "- Çift Değişkenli Dağılım Grafikleri\n",
    "- Çizgi ve Nokta Çizgileri\n",
    "- Bar Grafikleri\n",
    "- Isı Haritaları\n",
    "- Çift Eksenli Grafikler\n",
    "\n",
    "Seaborn aynı zamanda, veri setlerindeki ilişkileri analiz etmek ve bu verileri görselleştirmek için kullanılan regresyon analizi, faktör analizi ve kovaryans analizi gibi istatistiksel yöntemler de sunmaktadır."
   ]
  },
  {
   "cell_type": "code",
   "execution_count": null,
   "metadata": {},
   "outputs": [],
   "source": [
    "import seaborn as sns"
   ]
  },
  {
   "cell_type": "code",
   "execution_count": null,
   "metadata": {},
   "outputs": [],
   "source": [
    "tips = sns.load_dataset(\"tips\")\n",
    "tips.head()"
   ]
  },
  {
   "cell_type": "markdown",
   "metadata": {},
   "source": [
    "### replot()\n",
    "\n",
    "Seaborn kütüphanesi içinde yer alan `relplot` fonksiyonu, verilerin ilişkisini incelemek ve görselleştirmek için kullanılan bir fonksiyondur. Bu fonksiyon, scatterplot ve lineplot fonksiyonlarının yerine geçebilen bir çoklu grafik çizim aracıdır.\n",
    "\n",
    "`relplot` fonksiyonunun en önemli özelliği, veri kümesindeki iki veya daha fazla değişken arasındaki ilişkileri aynı anda göstermek için kullanılabilecek çoklu grafikler çizdirme olanağı sağlamasıdır. Bu grafiklerin türleri, kind parametresiyle belirlenebilir ve seçenekler arasında `scatter`, `line`, `strip`, `swarm`, `box`, `violin`, `bar`, `count` gibi seçenekler yer alır.\n",
    "\n",
    "Ayrıca, col ve row parametreleri yardımıyla veri kümesinin farklı kategorilerine göre ayrılmış alt gruplarını da aynı anda görselleştirmek mümkündür. col ve row parametreleri, değişkenlerin sıralanması veya ayrılması için kullanılabilecek kategorik değişkenleri belirtmek için kullanılır.\n",
    "\n",
    "Örneğin, aşağıdaki kod bloğu, relplot fonksiyonunu kullanarak tips veri kümesindeki `total_bill` ve `tip` değişkenleri arasındaki ilişkiyi gösteren bir scatter grafiği çizdirir:"
   ]
  },
  {
   "cell_type": "code",
   "execution_count": null,
   "metadata": {},
   "outputs": [],
   "source": [
    "sns.relplot(x='total_bill', y = 'tip', data = tips)"
   ]
  },
  {
   "cell_type": "code",
   "execution_count": null,
   "metadata": {},
   "outputs": [],
   "source": [
    "sns.relplot(x='total_bill', y = 'tip', data = tips, hue = 'day') # günlere göre ayrı tipler"
   ]
  },
  {
   "cell_type": "code",
   "execution_count": null,
   "metadata": {},
   "outputs": [],
   "source": [
    "sns.relplot(x='total_bill', y = 'tip', data = tips, hue = 'day', style='time') # zamana göre de ayrılmış"
   ]
  },
  {
   "cell_type": "code",
   "execution_count": null,
   "metadata": {},
   "outputs": [],
   "source": [
    "sns.relplot(x='total_bill', y = 'tip', data = tips, hue = 'day', style='time', col = 'sex') # cinsiyet de eklendi"
   ]
  },
  {
   "cell_type": "markdown",
   "metadata": {},
   "source": [
    "### catplot()\n",
    "Seaborn kütüphanesi içinde yer alan `catplot()`, kategorik verilerin görselleştirilmesi için kullanılan bir fonksiyondur. catplot(), farklı tiplerdeki kategorik verileri farklı grafik türleri ile görselleştirmek için tasarlanmıştır.\n",
    "\n",
    "catplot(), aşağıdaki grafik tiplerini destekler:\n",
    "\n",
    "* stripplot: nokta grafiği\n",
    "* swarmplot: sinek grafiği\n",
    "* boxplot: kutu grafiği\n",
    "* violinplot: keman grafiği\n",
    "* boxenplot: kutu ve bıyık grafiği\n",
    "* pointplot: nokta grafiği\n",
    "* barplot: çubuk grafiği\n",
    "* countplot: sayım grafiği\n",
    "\n",
    "Örneğin, tips veri kümesi ile catplot() fonksiyonunu kullanarak, her gün için farklı öğünlerdeki ortalama hesap miktarlarını çizdirebiliriz:"
   ]
  },
  {
   "cell_type": "code",
   "execution_count": null,
   "metadata": {},
   "outputs": [],
   "source": [
    "g = sns.catplot(x='day', y='total_bill', hue='sex', kind='bar', data=tips)\n",
    "plt.show()"
   ]
  },
  {
   "cell_type": "markdown",
   "metadata": {},
   "source": [
    "Bu örnekte `catplot()` fonksiyonuna x, y ve hue parametreleri verilerek, x ekseninde günler, y ekseninde hesap miktarı, hue ile de cinsiyet bilgisi görselleştirilmiştir. Ayrıca kind parametresine bar değeri verilerek, çubuk grafiği çizdirilmiştir.\n",
    "\n",
    "Tablo veya veri kümesinin özet istatistiklerini göstermek için kullanılan boxplot, Seaborn kütüphanesi içinde yer alan `boxplot()` fonksiyonu ile çizdirilebilir. Boxplot, verilerin çeyrekliklerini (çeyrekler arası yayılma), medyanı ve aykırı değerleri grafiksel olarak gösterir.\n",
    "\n",
    "Örneğin, tips veri kümesindeki bahşiş miktarları ile boxplot çizdirelim:"
   ]
  },
  {
   "cell_type": "code",
   "execution_count": null,
   "metadata": {},
   "outputs": [],
   "source": [
    "sns.boxplot(x='day', y='tip', data=tips)\n",
    "plt.show()"
   ]
  },
  {
   "cell_type": "markdown",
   "metadata": {},
   "source": [
    "### Çiftli Grafikler (Pair Plots)\n",
    "\n",
    "Çiftli grafikler, veri kümesindeki tüm sayısal değişkenlerin birbirleriyle olan ilişkilerini gösteren bir tür grafiktir.\n",
    "\n",
    "Seaborn kütüphanesi içinde bulunan `sns.pairplot()` fonksiyonu, veri kümesindeki tüm sayısal değişkenlerin birbirleriyle olan ilişkilerini görselleştirmek için kullanılabilir. Veri kümesindeki her bir sayısal değişkenin diğer sayısal değişkenlerle olan ilişkisini, histogramlar ve yoğunluk grafiği olarak gösterir. Bu sayede, veri kümesindeki değişkenler arasındaki ilişkiler daha kolay anlaşılabilir.\n",
    "\n",
    "`sns.pairplot()` fonksiyonu kullanılırken, veri kümesindeki tüm sayısal değişkenlerin bulunması gerekmektedir. Fonksiyon otomatik olarak tüm sayısal değişkenleri bulur ve pair plotu oluşturur. Ayrıca, veri kümesindeki sayısal olmayan değişkenlerin de görüntülenmesi için, hue parametresi kullanılabilir.\n",
    "\n",
    "Örneğin, bir veri kümesindeki tüm sayısal değişkenlerin birbirleriyle olan ilişkilerini görselleştirmek için `sns.pairplot()` fonksiyonu kullanılabilir:"
   ]
  },
  {
   "cell_type": "code",
   "execution_count": null,
   "metadata": {},
   "outputs": [],
   "source": [
    "iris = sns.load_dataset(\"iris\")\n",
    "iris.head()"
   ]
  },
  {
   "cell_type": "code",
   "execution_count": null,
   "metadata": {},
   "outputs": [],
   "source": [
    "sns.pairplot(iris, hue='species');"
   ]
  },
  {
   "cell_type": "markdown",
   "metadata": {},
   "source": [
    "### Yönlü Histogramlar (Faceted Histograms)\n",
    "\n",
    "Yönlü Histogramlar, verileri farklı kategorilere veya gruplara ayırdıktan sonra her bir kategorideki dağılımı gösteren bir histogram türüdür. Bu tür histogramlar, farklı kategoriler arasındaki veri dağılımını karşılaştırmak için kullanılabilir. Bu grafikler, Seaborn kütüphanesi içinde yer alan `FacetGrid()` fonksiyonu ile oluşturulabilir."
   ]
  },
  {
   "cell_type": "code",
   "execution_count": null,
   "metadata": {},
   "outputs": [],
   "source": [
    "tips['tip_pct'] = 100 * tips['tip'] / tips['total_bill']\n",
    "\n",
    "grid = sns.FacetGrid(tips, row=\"sex\", col=\"time\", margin_titles=True)\n",
    "grid.map(plt.hist, \"tip_pct\", bins=np.linspace(0, 40, 15));"
   ]
  },
  {
   "cell_type": "markdown",
   "metadata": {},
   "source": [
    "`g.map()` fonksiyonu, her bir hücredeki total_bill ve tip değişkenlerinin dağılımını gösteren `histplot()` fonksiyonunu çağırır. g.add_legend() fonksiyonu ile renklerin neyi temsil ettiği gösterilir. Elde edilen grafik şöyle görünür:"
   ]
  },
  {
   "cell_type": "markdown",
   "metadata": {},
   "source": [
    "### Violin Grafikleri (Violin Plots)\n",
    "\n",
    "Violin grafiği, veri setinin dağılımını görselleştirmek için kullanılan bir grafik türüdür. Genellikle kutu grafiği ile benzer bir amaca hizmet eder ancak kutu grafiğinin sunduğundan daha fazla bilgi sağlar. Violin grafiği, veri dağılımının yoğunluğunu, ortalamasını, medyanını ve çeyrekler arası aralığı görselleştirmek için kullanılır.\n",
    "\n",
    "Violin grafiği, veri setindeki her bir değerin yoğunluğunu gösteren bir çekirdek (kernel) yoğunluk grafiği ve her bir değer için bir kutu grafiği içerir. Çekirdek yoğunluk grafiği, veri dağılımının şeklini gösterirken, kutu grafiği veri setinin merkezlerinin ve çeyrekler arası aralıklarının gösterilmesinde kullanılır.\n",
    "\n",
    "Seaborn kütüphanesi, violin grafiğini oluşturmak için kullanılabilir. Veri setindeki her bir değişken çifti için bir çift violin grafiği oluşturulabilir. Bu, değişkenler arasındaki ilişkiyi ve aynı anda her bir değişkenin dağılımını görselleştirmek için kullanışlı bir yöntemdir.\n",
    "\n",
    "Örneğin, \"tips\" veri setinde, \"total_bill\" ve \"tip\" değişkenleri arasındaki ilişkiyi göstermek için bir çift violin grafiği oluşturulabilir:"
   ]
  },
  {
   "cell_type": "code",
   "execution_count": null,
   "metadata": {},
   "outputs": [],
   "source": [
    "sns.violinplot(x='day', y='total_bill', hue='sex', kind='bar', data=tips)"
   ]
  },
  {
   "cell_type": "markdown",
   "metadata": {},
   "source": [
    "### Çörek grafikleri (Donut Plots)\n",
    "\n",
    "Çörek grafikleri, pasta grafiklerine benzeyen, ancak merkezlerinde boşluk olan bir görselleştirme türüdür. Bu görselleştirme, yüzdelik oranları temsil etmek için kullanılır ve verilerin toplamının 100%'den daha az olduğu durumlarda özellikle yararlıdır.\n",
    "\n",
    "Pasta grafiklerinde olduğu gibi, verilerin oransal dağılımını görselleştirmek için kullanılır. Ancak, çörek grafikleri, merkezlerindeki boşluk nedeniyle daha fazla bilgi sunar. Merkezdeki boşluk, grafikteki verilerin toplamının 100%'den az olduğu durumlarda kullanışlıdır. Bu boşluğu, grafikte gösterilmeyen bir diğer kategori için kullanabilirsiniz.\n",
    "\n",
    "Matplotlib, Seaborn ve Plotly gibi birçok Python veri görselleştirme kütüphanesi donut grafikleri çizme işlevselliği sağlar.\n",
    "\n",
    "Örnek bir çörek grafik oluşturmak için, öncelikle verilerinizin yüzdelik oranlarını hesaplamalısınız. Daha sonra, bu yüzdelik oranları kullanarak bir çörek grafik oluşturabilirsiniz.\n",
    "\n",
    "Örnek kod:"
   ]
  },
  {
   "cell_type": "code",
   "execution_count": null,
   "metadata": {
    "scrolled": true
   },
   "outputs": [],
   "source": [
    "import matplotlib.pyplot as plt\n",
    "\n",
    "# Verileri oluşturma\n",
    "veriler = [25, 35, 20, 10, 10]\n",
    "\n",
    "# Renkler ve etiketleri belirleme\n",
    "renkler = ['yellowgreen', 'gold', 'lightskyblue', 'lightcoral', 'orange']\n",
    "etiketler = ['A', 'B', 'C', 'D', 'E']\n",
    "\n",
    "# Donut grafik oluşturma\n",
    "fig1, ax1 = plt.subplots()\n",
    "ax1.pie(veriler, colors=renkler, labels=etiketler, autopct='%1.1f%%', startangle=90, pctdistance=0.85)\n",
    "cember = plt.Circle((0,0),0.70,fc='white')\n",
    "fig = plt.gcf()\n",
    "fig.gca().add_artist(cember)\n",
    "\n",
    "# Grafik ayarları\n",
    "ax1.axis('equal')\n",
    "plt.tight_layout()\n",
    "\n",
    "# Grafik gösterme\n",
    "plt.show()"
   ]
  },
  {
   "cell_type": "markdown",
   "metadata": {},
   "source": [
    "Bu kod, bir çörek grafik oluşturur ve ayrıca etiketler ve renkler ekler. Ayrıca, etiketlerin yüzdelik oranlarını da gösterir."
   ]
  },
  {
   "cell_type": "markdown",
   "metadata": {},
   "source": [
    "### Kabarcık grafikleri (Bubble Charts)\n",
    "\n",
    "Kabarcık grafikleri (bubble charts), verileri hem boyut hem de renk kullanarak görselleştiren bir grafik türüdür. Her bir nokta bir veriyi temsil eder ve konumları x ve y koordinatları ile belirtilirken, boyutları ve renkleri de farklı verileri temsil eder.\n",
    "\n",
    "Kabarcık grafikleri, verilerin kategorik veya sayısal olarak gruplanabileceği herhangi bir veri seti için kullanılabilir. Özellikle, büyük veri kümelerinde, birkaç değişken arasındaki ilişkileri görselleştirmek için kullanışlıdır.\n",
    "\n",
    "Kabarcık grafikleri, yüzey alanının ve rengin birlikte kullanımı sayesinde, birçok veri setinde daha fazla bilgi sunabilir. Ancak, çok sayıda veri noktası ile grafikler karmaşık hale gelebilir ve okunması zor olabilir.\n",
    "\n",
    "Örnek olarak, bir ürünün satışını etkileyen faktörleri incelemek için bir kabarcık grafik kullanılabilir. X ve Y eksenleri, ürünün fiyatı ve pazarlama harcamaları gibi sayısal değişkenler olabilir. Kabarcık boyutu, ürünün satışlarını temsil ederken, kabarcık rengi değişik bölgelerdeki mağaza konumlarını temsil edebilir. Böyle bir grafik, veri analizcilerin farklı pazarlama stratejilerini test etmek için ürün fiyatı ve pazarlama harcamaları arasındaki ilişkiyi incelemelerine olanak tanır."
   ]
  },
  {
   "cell_type": "code",
   "execution_count": null,
   "metadata": {},
   "outputs": [],
   "source": [
    "# Verileri oluşturma\n",
    "sehirler = ['İstanbul', 'Ankara', 'İzmir', 'Bursa']\n",
    "populasyon = [15029231, 5445026, 4279677, 2936806]\n",
    "gelir = [15200, 12600, 13900, 11800]\n",
    "\n",
    "# Kabarcık grafik çizimi\n",
    "sns.scatterplot(x=populasyon, y=gelir, size=populasyon, sizes=(100, 1000), hue=sehirler)\n",
    "plt.xlabel('Nüfus')\n",
    "plt.ylabel('Ortalama Gelir')\n",
    "plt.title('Şehirlerin Nüfus ve Ortalama Gelir Dağılımları')\n",
    "plt.show()"
   ]
  },
  {
   "cell_type": "markdown",
   "metadata": {},
   "source": [
    "Bu kodda, `sns.scatterplot()` fonksiyonu kullanılarak kabarcık grafik çizimi gerçekleştirilir. x ve y parametreleri verilerin x ve y eksenindeki dağılımını belirtirken, `size` parametresi kabarcık boyutlarını belirler. `sizes` parametresi minimum ve maksimum kabarcık boyutlarını belirlerken, `hue` parametresi renk skalasını belirlemek için kullanılır."
   ]
  },
  {
   "cell_type": "markdown",
   "metadata": {},
   "source": [
    "## Sonuç\n",
    "\n",
    "Bu bölümde, Matplotlib kütüphanesinin çeşitli özelliklerini ve fonksiyonlarını öğrendik. Matplotlib'i, bunun nasıl kullanılacağını ve veri görselleştirme için ihtiyaç duyduğumuz diğer çeşitli yararlı işlevleri ve yöntemleri anlıyor ve iyi uygulamalı uygulamalara sahibiz.\n",
    "\n",
    "Veri analizi kavramlarının, araçlarının ve veri analizi için ihtiyaç duyduğumuz gerekli Python kitaplıklarının temellerini ele aldık."
   ]
  },
  {
   "cell_type": "code",
   "execution_count": null,
   "metadata": {},
   "outputs": [],
   "source": []
  }
 ],
 "metadata": {
  "kernelspec": {
   "display_name": "Python 3 (ipykernel)",
   "language": "python",
   "name": "python3"
  },
  "language_info": {
   "codemirror_mode": {
    "name": "ipython",
    "version": 3
   },
   "file_extension": ".py",
   "mimetype": "text/x-python",
   "name": "python",
   "nbconvert_exporter": "python",
   "pygments_lexer": "ipython3",
   "version": "3.9.7"
  },
  "toc": {
   "base_numbering": 1,
   "nav_menu": {
    "height": "144.986px",
    "width": "243.253px"
   },
   "number_sections": true,
   "sideBar": true,
   "skip_h1_title": true,
   "title_cell": "Table of Contents",
   "title_sidebar": "Contents",
   "toc_cell": false,
   "toc_position": {
    "height": "100px",
    "left": "42px",
    "top": "76.5455px",
    "width": "168.417px"
   },
   "toc_section_display": true,
   "toc_window_display": true
  },
  "varInspector": {
   "cols": {
    "lenName": 16,
    "lenType": 16,
    "lenVar": 40
   },
   "kernels_config": {
    "python": {
     "delete_cmd_postfix": "",
     "delete_cmd_prefix": "del ",
     "library": "var_list.py",
     "varRefreshCmd": "print(var_dic_list())"
    },
    "r": {
     "delete_cmd_postfix": ") ",
     "delete_cmd_prefix": "rm(",
     "library": "var_list.r",
     "varRefreshCmd": "cat(var_dic_list()) "
    }
   },
   "types_to_exclude": [
    "module",
    "function",
    "builtin_function_or_method",
    "instance",
    "_Feature"
   ],
   "window_display": false
  }
 },
 "nbformat": 4,
 "nbformat_minor": 2
}
