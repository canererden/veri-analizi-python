{
 "cells": [
  {
   "cell_type": "markdown",
   "id": "39fa5fb3",
   "metadata": {},
   "source": [
    "# NumPy ile Çok Boyutlu Diziler\n",
    "\n",
    "NumPy, Python programlama dilinde sayısal işlemler için kullanılan açık kaynaklı bir kütüphanedir. Bu kütüphane, büyük veri setleri üzerinde hızlı ve etkili hesaplamalar yapmak için tasarlanmıştır ve bilimsel, mühendislik ve veri analizi uygulamaları için sıkça kullanılır. NumPy, matematiksel ve istatistiksel hesaplamalar yapmak, çok boyutlu diziler ve matrislerle çalışmak ve lineer cebir işlemlerini gerçekleştirmek için bir dizi fonksiyon ve araç sağlar. Bu bölümde, NumPy'nin temel özelliklerini ve kullanımını daha ayrıntılı olarak inceleyeceğiz."
   ]
  },
  {
   "cell_type": "markdown",
   "id": "3a122889",
   "metadata": {},
   "source": [
    "## NumPy Kütüphanesine Giriş\n",
    "\n",
    "NumPy, Python programlama dilinde sayısal işlemleri gerçekleştirmek için kullanılan bir kütüphanedir. Bu kütüphane, büyük veri setleri üzerinde hızlı ve etkili hesaplamalar yapmak için özel olarak tasarlanmıştır. Ayrıca, bilimsel ve matematiksel hesaplamalar yapmak için bir dizi fonksiyon ve araç sağlar. Bu nedenle, birçok veri bilimi, mühendislik ve bilimsel uygulama, NumPy kullanarak hesaplama yapar. NumPy, çok boyutlu dizileri ve matrisleri işlemek için optimize edilmiştir ve bu nedenle de büyük veri setleri üzerinde hızlı işlemler yapmak için idealdir.\n",
    "\n",
    "NumPy kütüphanesi, birçok matematiksel fonksiyonu içerir. Örneğin, trigonometrik fonksiyonlar (sinüs, kosinüs, tanjant, vb.), logaritmalar, üs alma, karekök alma, vb. gibi temel matematiksel işlemleri gerçekleştirmek için kullanılabilir. Ayrıca, NumPy, polinomlar, fonksiyonlar ve veriler üzerinde çeşitli istatistiksel işlemleri gerçekleştirmek için de bir dizi fonksiyon sağlar.\n",
    "\n",
    "NumPy kütüphanesi, verileri diziler halinde saklar. Bu diziler, farklı boyutlara sahip çok boyutlu diziler olarak tanımlanabilir. NumPy dizileri, Python listelerinden daha hızlı ve daha verimlidir ve bu nedenle büyük veri setleri üzerinde çalışmak için idealdir. NumPy, ayrıca bu diziler üzerinde çeşitli işlemler yapmak için bir dizi fonksiyon sağlar. Örneğin, dizileri birleştirmek, yeniden şekillendirmek, kesmek, vb.\n",
    "\n",
    "NumPy kütüphanesi ayrıca, çeşitli lineer cebir işlemlerini de gerçekleştirmek için kullanılabilir. Örneğin, matris çarpımı, matris tersi alma, determinant hesaplama, vb. gibi işlemler yapmak için NumPy fonksiyonları kullanılabilir.\n",
    "\n",
    "Sonuç olarak, NumPy, Python programlama dilinde sayısal işlemleri gerçekleştirmek için kullanılan bir kütüphanedir. Büyük veri setleri üzerinde hızlı ve etkili hesaplamalar yapmak için özel olarak tasarlanmıştır. NumPy, bilimsel ve matematiksel hesaplamaları yapmak için birçok fonksiyon ve araç sağlar ve çok boyutlu dizileri ve matrisleri işlemek için optimize edilmiştir. NumPy, verileri diziler halinde saklar ve büyük veri setleri üzerinde çalışmak için idealdir."
   ]
  },
  {
   "cell_type": "markdown",
   "id": "bf209e28",
   "metadata": {},
   "source": [
    "### Çağırma ve import etme\n",
    "\n",
    "NumPy'yı kullanmak için öncelikle kütüphaneyi çağırmalıyız. Bu, genellikle aşağıdaki şekilde yapılır:"
   ]
  },
  {
   "cell_type": "code",
   "execution_count": 1,
   "id": "5d113399",
   "metadata": {},
   "outputs": [],
   "source": [
    "import numpy as np"
   ]
  },
  {
   "cell_type": "markdown",
   "id": "5e7d2001",
   "metadata": {},
   "source": [
    "Bu, NumPy kütüphanesini Python programına dahil eder ve `np` kısaltması ile çağırmayı sağlar. Ardından, NumPy dizileri oluşturmak ve temel işlemler yapmak için aşağıdaki gibi kodlar yazılabilir:"
   ]
  },
  {
   "cell_type": "code",
   "execution_count": 2,
   "id": "ef12ae68",
   "metadata": {},
   "outputs": [
    {
     "name": "stdout",
     "output_type": "stream",
     "text": [
      "[1 2 3]\n",
      "[[1 2 3]\n",
      " [4 5 6]]\n",
      "[5 7 9]\n",
      "[-3 -3 -3]\n",
      "[ 4 10 18]\n",
      "[0.25 0.4  0.5 ]\n"
     ]
    }
   ],
   "source": [
    "import numpy as np\n",
    "\n",
    "# 1D NumPy dizi oluşturma\n",
    "a = np.array([1, 2, 3])\n",
    "print(a)\n",
    "\n",
    "# 2D NumPy dizi oluşturma\n",
    "b = np.array([[1, 2, 3], [4, 5, 6]])\n",
    "print(b)\n",
    "\n",
    "# NumPy dizileri üzerinde temel işlemler yapma\n",
    "c = np.array([1, 2, 3])\n",
    "d = np.array([4, 5, 6])\n",
    "\n",
    "print(c + d) # toplama\n",
    "print(c - d) # çıkarma\n",
    "print(c * d) # çarpma\n",
    "print(c / d) # bölme"
   ]
  },
  {
   "cell_type": "markdown",
   "id": "e4d648a6",
   "metadata": {},
   "source": [
    "Bu kodlar, 1D ve 2D NumPy dizileri oluşturmak için `np.array()` fonksiyonunu kullanır ve temel matematiksel işlemleri gerçekleştirmek için NumPy dizileri üzerinde `+`, `-`, `*`, `/` operatörlerini kullanır."
   ]
  },
  {
   "cell_type": "markdown",
   "id": "2f3f9cb1",
   "metadata": {},
   "source": [
    "### NumPy versiyonu\n",
    "\n",
    "NumPy'nin sürümü, kütüphanenin özelliklerinde ve işlevlerindeki değişiklikleri yansıtır ve kullanıcıların hangi sürümün yüklü olduğunu ve hangi özellikleri kullanabileceklerini bilmesini sağlar.\n",
    "\n",
    "NumPy sürümünü kontrol etmek için, aşağıdaki gibi bir kod kullanabilirsiniz:"
   ]
  },
  {
   "cell_type": "code",
   "execution_count": 3,
   "id": "83b925aa",
   "metadata": {},
   "outputs": [
    {
     "data": {
      "text/plain": [
       "'1.20.3'"
      ]
     },
     "execution_count": 3,
     "metadata": {},
     "output_type": "execute_result"
    }
   ],
   "source": [
    "np.__version__"
   ]
  },
  {
   "cell_type": "markdown",
   "id": "52b3d9c1",
   "metadata": {},
   "source": [
    "NumPy sürümü, kütüphanenin yüklendiği Python sürümüne göre değişebilir. Bu nedenle, farklı Python sürümleri için farklı NumPy sürümleri mevcut olabilir. NumPy'nin web sitesinde, hangi Python sürümlerinin hangi NumPy sürümleriyle uyumlu olduğuna dair bir uyumluluk tablosu mevcuttur."
   ]
  },
  {
   "cell_type": "markdown",
   "id": "bee5cf6a",
   "metadata": {},
   "source": [
    "## Çok Boyutlu Diziler\n",
    "\n",
    "NumPy'nin en önemli özelliklerinden biri, çok boyutlu dizileri desteklemesidir. Çok boyutlu diziler, farklı boyutlardaki verileri saklamak için kullanılan veri yapılarıdır. NumPy, iki veya daha fazla boyutta veri depolamak için kullanılan çok boyutlu dizilere olanak tanır. Çok boyutlu diziler, matrisler olarak da bilinir ve 2D NumPy dizileri matrislerin bir örneğidir.\n",
    "\n",
    "NumPy'da çok boyutlu dizileri oluşturmak için, `np.array()` fonksiyonuna bir liste veya bir dizi veri girilir. Örneğin, aşağıdaki kod, 2 satır ve 3 sütun içeren bir matris oluşturur:"
   ]
  },
  {
   "cell_type": "code",
   "execution_count": 4,
   "id": "1a4dc5d1",
   "metadata": {},
   "outputs": [
    {
     "name": "stdout",
     "output_type": "stream",
     "text": [
      "[[1 2 3]\n",
      " [4 5 6]]\n"
     ]
    }
   ],
   "source": [
    "# 2D NumPy dizi oluşturma\n",
    "a = np.array([[1, 2, 3], [4, 5, 6]])\n",
    "print(a)"
   ]
  },
  {
   "cell_type": "markdown",
   "id": "e6374f3d",
   "metadata": {},
   "source": [
    "NumPy, aynı boyutta olmayan çok sayıda boyutlu diziyi destekler. Örneğin, aşağıdaki kod, 2 matris ve her matris 2 satır ve 3 sütundan oluşan 3 boyutlu bir dizi oluşturur:"
   ]
  },
  {
   "cell_type": "code",
   "execution_count": 5,
   "id": "5e383334",
   "metadata": {},
   "outputs": [
    {
     "name": "stdout",
     "output_type": "stream",
     "text": [
      "[[[ 1  2  3]\n",
      "  [ 4  5  6]]\n",
      "\n",
      " [[ 7  8  9]\n",
      "  [10 11 12]]]\n"
     ]
    }
   ],
   "source": [
    "# 3D NumPy dizi oluşturma\n",
    "b = np.array([[[1, 2, 3], [4, 5, 6]], [[7, 8, 9], [10, 11, 12]]])\n",
    "print(b)"
   ]
  },
  {
   "cell_type": "markdown",
   "id": "94593841",
   "metadata": {},
   "source": [
    "Çok boyutlu diziler üzerinde farklı matematiksel işlemler yapılabilir ve NumPy, çok boyutlu diziler üzerinde işlemleri hızlı bir şekilde gerçekleştirebilir."
   ]
  },
  {
   "cell_type": "markdown",
   "id": "691dedd6",
   "metadata": {},
   "source": [
    "### Matematiksel işlemler\n",
    "NumPy dizileri, farklı matematiksel işlemleri gerçekleştirmek için bir dizi yönteme (metot) sahiptir. Bazı yaygın kullanılan NumPy dizisi yöntemleri aşağıda açıklanmıştır:\n",
    "\n",
    "- `ndarray.ndim`: Dizi boyutunu döndürür.\n",
    "- `ndarray.shape`: Dizi boyutlarını tuple olarak döndürür.\n",
    "- `ndarray.size`: Dizideki elemanların toplam sayısını döndürür.\n",
    "- `ndarray.dtype`: Dizinin veri tipini döndürür.\n",
    "- `ndarray.reshape()`: Dizi şeklini değiştirir.\n",
    "- `ndarray.min()`: Dizideki en küçük elemanı döndürür.\n",
    "- `ndarray.max()`: Dizideki en büyük elemanı döndürür.\n",
    "- `ndarray.sum()`: Dizideki tüm elemanların toplamını döndürür.\n",
    "- `ndarray.mean()`: Dizideki tüm elemanların ortalamasını döndürür.\n",
    "- `ndarray.std()`: Dizideki tüm elemanların standart sapmasını döndürür.\n",
    "- `ndarray.transpose()`: Dizinin transpozunu döndürür.\n",
    "\n",
    "Örneğin, aşağıdaki kod, bir NumPy dizisi oluşturur ve `shape` ve `size` yöntemlerini kullanarak dizinin boyutunu ve eleman sayısını gösterir:"
   ]
  },
  {
   "cell_type": "code",
   "execution_count": 6,
   "id": "dd173d8e",
   "metadata": {},
   "outputs": [
    {
     "name": "stdout",
     "output_type": "stream",
     "text": [
      "Shape of array: (2, 3)\n",
      "Size of array: 6\n"
     ]
    }
   ],
   "source": [
    "# NumPy dizi oluşturma\n",
    "a = np.array([[1, 2, 3], [4, 5, 6]])\n",
    "print(\"Shape of array:\", a.shape) # çıktı: (2, 3)\n",
    "print(\"Size of array:\", a.size) # çıktı: 6"
   ]
  },
  {
   "cell_type": "markdown",
   "id": "56089605",
   "metadata": {},
   "source": [
    "Ayrıca, aşağıdaki kod, `reshape()` ve `transpose()` yöntemlerini kullanarak dizi şeklini değiştirir ve transpozunu alır:\n",
    "![](https://numpy.org/doc/stable/_images/np_transposing_reshaping.png)"
   ]
  },
  {
   "cell_type": "code",
   "execution_count": 7,
   "id": "ba9315b1",
   "metadata": {},
   "outputs": [
    {
     "name": "stdout",
     "output_type": "stream",
     "text": [
      "Reshaped array: [[1 2]\n",
      " [3 4]\n",
      " [5 6]]\n",
      "Transposed array: [[1 4]\n",
      " [2 5]\n",
      " [3 6]]\n"
     ]
    }
   ],
   "source": [
    "# Dizi şeklini değiştirme\n",
    "b = a.reshape((3, 2))\n",
    "print(\"Reshaped array:\", b) # çıktı: [[1 2] [3 4] [5 6]]\n",
    "\n",
    "# Dizinin transpozunu alma\n",
    "c = a.transpose()\n",
    "print(\"Transposed array:\", c) # çıktı: [[1 4] [2 5] [3 6]]"
   ]
  },
  {
   "cell_type": "markdown",
   "id": "667fc8e7",
   "metadata": {},
   "source": [
    "### 3 boyutlu diziler\n",
    "\n",
    "NumPy ile 3 boyutlu diziler, 2 boyutlu dizilerde olduğu gibi çok sayıda matematiksel işlem için kullanılabilir. 3 boyutlu diziler, veri depolama, işleme ve görselleştirme gibi uygulamalarda kullanılır. 3 boyutlu bir NumPy dizisi oluşturmak için, `numpy.array()` fonksiyonuna 3 boyutlu bir liste vermek yeterlidir.\n",
    "\n",
    "Aşağıda, bir 3 boyutlu dizi oluşturmanın ve farklı işlemler yapmanın örnekleri verilmiştir:"
   ]
  },
  {
   "cell_type": "code",
   "execution_count": 8,
   "id": "c330d38f",
   "metadata": {},
   "outputs": [
    {
     "name": "stdout",
     "output_type": "stream",
     "text": [
      "Shape of array: (2, 2, 2)\n",
      "Element at [0, 1, 0]: 3\n",
      "Reshaped array: [[1 2 3 4]\n",
      " [5 6 7 8]]\n",
      "Max value of array: 8\n",
      "Sum of array: 36\n",
      "Transposed array: [[[1 5]\n",
      "  [3 7]]\n",
      "\n",
      " [[2 6]\n",
      "  [4 8]]]\n"
     ]
    }
   ],
   "source": [
    "# 3 boyutlu dizi oluşturma\n",
    "a = np.array([[[1, 2], [3, 4]], [[5, 6], [7, 8]]])\n",
    "print(\"Shape of array:\", a.shape) # çıktı: (2, 2, 2)\n",
    "\n",
    "# Dizinin elemanlarına erişme\n",
    "print(\"Element at [0, 1, 0]:\", a[0, 1, 0]) # çıktı: 3\n",
    "\n",
    "# Dizinin şeklini değiştirme\n",
    "b = a.reshape((2, 4))\n",
    "print(\"Reshaped array:\", b) # çıktı: [[1 2 3 4] [5 6 7 8]]\n",
    "\n",
    "# Dizinin maksimum değerini bulma\n",
    "max_value = a.max()\n",
    "print(\"Max value of array:\", max_value) # çıktı: 8\n",
    "\n",
    "# Dizinin elemanlarının toplamını bulma\n",
    "sum_value = a.sum()\n",
    "print(\"Sum of array:\", sum_value) # çıktı: 36\n",
    "\n",
    "# Dizinin transpozunu alma\n",
    "c = a.transpose()\n",
    "print(\"Transposed array:\", c) # çıktı: [[[1 5] [3 7]] [[2 6] [4 8]]]"
   ]
  },
  {
   "cell_type": "markdown",
   "id": "cec7e0fb",
   "metadata": {},
   "source": [
    "Yukarıdaki örnekte, `a` adlı bir 3 boyutlu dizi oluşturulmuş, sonra dizinin şekli (`shape`) ve boyutu (`size`) gösterilmiştir. Daha sonra, dizinin elemanlarına erişmek için indeksleme yapılmış, şekli değiştirme, maksimum değeri bulma, elemanlarının toplamını bulma ve transpozunu alma gibi işlemler yapılmıştır."
   ]
  },
  {
   "cell_type": "markdown",
   "id": "7cc03f4a",
   "metadata": {},
   "source": [
    "3 boyutlu diziler, matrislerin aksine, üçüncü bir boyutu da içerdiğinden, farklı bir gösterime ihtiyaç duyarlar. Bir 3 boyutlu dizi, üç farklı boyutta bulunan bir dizi noktadan oluşur. Örneğin, bir RGB resmin 3 boyutlu bir dizi olarak düşünülebilir, bu durumda resimdeki her piksel üç boyutlu bir nokta olacaktır. Aşağıdaki örnek, bir 3 boyutlu dizi gösterimini göstermektedir:\n",
    "\n",
    "```\n",
    "[[[ 1  2]\n",
    "  [ 3  4]]\n",
    "\n",
    " [[ 5  6]\n",
    "  [ 7  8]]]\n",
    "```\n",
    "\n",
    "Bu örnekte, 2x2 boyutlu ve 2 adet 2x2 matris içeren bir 3 boyutlu dizi gösterilmiştir. İlk matris şöyle gösterilir:\n",
    "\n",
    "```\n",
    "[[ 1  2]\n",
    " [ 3  4]]\n",
    "```\n",
    "\n",
    "İkinci matris de şöyle gösterilir:\n",
    "\n",
    "```\n",
    "[[ 5  6]\n",
    " [ 7  8]]\n",
    "```\n",
    "\n",
    "Bu matrisler, birbirleriyle aynı düzlemde bulunur, ancak farklı birer \"katmanda\" yer alırlar. Böylece, bu matrislerin üst üste yığılıp 3 boyutlu bir dizi oluşturdukları görülür.\n",
    "\n",
    "3 boyutlu dizilerin gösteriminde, matrislerin gösterimindeki gibi her bir eleman arasında bir boşluk yerine, elemanları ayırmak için virgül kullanılır. Ayrıca, farklı katmanlardaki matrisler, aralarına bir boşluk bırakılarak gösterilirler."
   ]
  },
  {
   "cell_type": "markdown",
   "id": "555448fc",
   "metadata": {},
   "source": [
    "## Elemanlara ulaşma\n",
    "\n",
    "Numpy dizilerinde, elemanlara erişmek için indeksleme ve dilimleme işlemleri kullanılır. İndeksleme, dizinin belirli bir elemanına doğrudan erişmek için kullanılırken, dilimleme işlemi, dizinin belirli bir alt kümesine erişmek için kullanılır.\n",
    "\n",
    "![](https://numpy.org/doc/stable/_images/np_indexing.png)\n",
    "\n",
    "### Indeksleme\n",
    "\n",
    "Indeksleme, belirli bir elemana doğrudan erişmek için kullanılır. Dizilerin indeksleri 0'dan başlar. Örneğin, aşağıdaki kodda, 0, 1 ve 2. elemanlara sırasıyla erişilmiştir."
   ]
  },
  {
   "cell_type": "code",
   "execution_count": 9,
   "id": "f80ae324",
   "metadata": {},
   "outputs": [
    {
     "name": "stdout",
     "output_type": "stream",
     "text": [
      "1\n",
      "2\n",
      "3\n"
     ]
    }
   ],
   "source": [
    "arr = np.array([1, 2, 3])\n",
    "\n",
    "print(arr[0]) # 1\n",
    "print(arr[1]) # 2\n",
    "print(arr[2]) # 3"
   ]
  },
  {
   "cell_type": "markdown",
   "id": "a26a9a66",
   "metadata": {},
   "source": [
    "3 boyutlu bir dizi üzerinde çalışırken, elemanlara erişmek için üç boyutlu bir indeks kullanmanız gerekir. Örneğin, aşağıdaki kodda, 1. katmanın 0, 0 ve 1. elemanına erişilmiştir:"
   ]
  },
  {
   "cell_type": "code",
   "execution_count": 10,
   "id": "7625737d",
   "metadata": {},
   "outputs": [
    {
     "name": "stdout",
     "output_type": "stream",
     "text": [
      "5\n",
      "6\n"
     ]
    }
   ],
   "source": [
    "arr = np.array([[[1, 2], [3, 4]], [[5, 6], [7, 8]]])\n",
    "\n",
    "print(arr[1,0,0]) # 5\n",
    "print(arr[1,0,1]) # 6"
   ]
  },
  {
   "cell_type": "markdown",
   "id": "32b7d8d8",
   "metadata": {},
   "source": [
    "### Dilimleme\n",
    "\n",
    "Dilimleme, dizinin belirli bir alt kümesine erişmek için kullanılır. Dilimleme işlemi, iki nokta arasındaki dizinin bütün elemanlarını alır. Örneğin, aşağıdaki kodda, 1. ve 2. elemanlar arasındaki elemanlar alınmıştır."
   ]
  },
  {
   "cell_type": "code",
   "execution_count": 11,
   "id": "a1004ca3",
   "metadata": {},
   "outputs": [
    {
     "name": "stdout",
     "output_type": "stream",
     "text": [
      "[2 3]\n"
     ]
    }
   ],
   "source": [
    "arr = np.array([1, 2, 3, 4, 5])\n",
    "\n",
    "print(arr[1:3]) # [2, 3]"
   ]
  },
  {
   "cell_type": "markdown",
   "id": "2f6420e3",
   "metadata": {},
   "source": [
    "3 boyutlu bir dizi üzerinde çalışırken, dilimleme işlemi için üç boyutlu bir dilimleme işlemi yapmanız gerekir. Örneğin, aşağıdaki kodda, 1. katmanın tüm elemanları alınmıştır:"
   ]
  },
  {
   "cell_type": "code",
   "execution_count": 12,
   "id": "87913553",
   "metadata": {},
   "outputs": [
    {
     "name": "stdout",
     "output_type": "stream",
     "text": [
      "[[5 6]\n",
      " [7 8]]\n"
     ]
    }
   ],
   "source": [
    "arr = np.array([[[1, 2], [3, 4]], [[5, 6], [7, 8]]])\n",
    "\n",
    "print(arr[1,:,:]) # [[5, 6], [7, 8]]"
   ]
  },
  {
   "cell_type": "markdown",
   "id": "6ec29814",
   "metadata": {},
   "source": [
    "Ayrıca, dilimleme işleminde iki nokta yerine üç nokta kullanarak da belirli bir adımda elemanları seçebilirsiniz. Örneğin, aşağıdaki kodda, 1. katmanın 0. ve 1. sıralarındaki elemanlar, ikişer ikişer atlanarak alınmıştır:"
   ]
  },
  {
   "cell_type": "code",
   "execution_count": 14,
   "id": "ddf5e32d",
   "metadata": {},
   "outputs": [
    {
     "name": "stdout",
     "output_type": "stream",
     "text": [
      "[[[5 6]]]\n"
     ]
    }
   ],
   "source": [
    "arr = np.array([[[1, 2], [3, 4]], [[5, 6], [7, 8]]])\n",
    "\n",
    "print(arr[1::2, 0::2,:]) # [[[5, 6]]]"
   ]
  },
  {
   "cell_type": "markdown",
   "id": "f4f90e47",
   "metadata": {},
   "source": [
    "Burada, `1::2` ifadesi, 1. katmandan başlayarak her iki elemanı alacağını belirtirken, `0::2` ifadesi, 0. ve 1. sıralardan başlayarak her iki elemanı alacağını belirtir. Son olarak `:` ifadesi, tüm sütunlardaki elemanları alacağını belirtir.\n",
    "\n",
    "Numpy dizilerinde indeksleme ve dilimleme işlemleri oldukça güçlüdür ve verilerin büyük ölçekli işlemlerini yapmak için önemlidir."
   ]
  },
  {
   "cell_type": "markdown",
   "id": "00d4c6a7",
   "metadata": {},
   "source": [
    "### Mantıksal dilimleme\n",
    "Mantıksal dilimleme (boolean indexing) yöntemi, numpy dizilerinde belirli koşulları sağlayan verileri seçmek için kullanılır. Bu işlem, belirli koşulları sağlayan verileri filtrelemek için çok kullanışlıdır.\n",
    "\n",
    "Örneğin, aşağıdaki numpy dizisinde 10'dan küçük olan tüm elemanları seçmek isteyelim:"
   ]
  },
  {
   "cell_type": "code",
   "execution_count": 15,
   "id": "4a23615d",
   "metadata": {},
   "outputs": [
    {
     "data": {
      "text/plain": [
       "array([1, 4, 2, 8, 3, 9])"
      ]
     },
     "execution_count": 15,
     "metadata": {},
     "output_type": "execute_result"
    }
   ],
   "source": [
    "a = np.array([1, 4, 10, 2, 8, 15, 3, 9])\n",
    "\n",
    "a[a < 10] # array([1, 4, 2, 8, 3, 9])"
   ]
  },
  {
   "cell_type": "markdown",
   "id": "becc49cc",
   "metadata": {},
   "source": [
    "Burada, `a < 10` ifadesi, `a` dizisindeki her elemanın 10'dan küçük olup olmadığını kontrol eder ve sonuç olarak bir bool numpy dizisi döndürür. Bu bool dizisindeki `True` değerleri, ana dizideki o konumdaki elemanın seçileceğini belirtir. Sonuç olarak, `a[a < 10]` ifadesi ile 10'dan küçük olan tüm elemanlar seçilir.\n",
    "\n",
    "Mantıksal dilimleme yöntemi, çok boyutlu dizilerde de kullanılabilir. Örneğin, aşağıdaki numpy dizisinde 3'ten büyük olan tüm elemanları seçmek isteyelim:"
   ]
  },
  {
   "cell_type": "code",
   "execution_count": 16,
   "id": "adbb7aaa",
   "metadata": {},
   "outputs": [
    {
     "data": {
      "text/plain": [
       "array([4, 5, 6, 7, 8, 9])"
      ]
     },
     "execution_count": 16,
     "metadata": {},
     "output_type": "execute_result"
    }
   ],
   "source": [
    "b = np.array([[1, 2, 3], [4, 5, 6], [7, 8, 9]])\n",
    "\n",
    "b[b > 3] # array([4, 5, 6, 7, 8, 9])"
   ]
  },
  {
   "cell_type": "markdown",
   "id": "f9543440",
   "metadata": {},
   "source": [
    "Burada, `b > 3` ifadesi, `b` dizisindeki her elemanın 3'ten büyük olup olmadığını kontrol eder ve sonuç olarak bir bool numpy dizisi döndürür. Bu bool dizisindeki `True` değerleri, ana dizideki o konumdaki elemanın seçileceğini belirtir. Sonuç olarak, `b[b > 3]` ifadesi ile 3'ten büyük olan tüm elemanlar seçilir.\n",
    "\n",
    "Mantıksal dilimleme yöntemi, numpy dizilerindeki veri filtrelemesi yaparken çok kullanışlı bir yöntemdir."
   ]
  },
  {
   "cell_type": "markdown",
   "id": "e8a74b6c",
   "metadata": {},
   "source": [
    "## Dizilerde aritmetik işlemler\n",
    "\n",
    "Numpy dizilerinde aritmetik işlemler, çok hızlı bir şekilde yapılabilir. Temel aritmetik işlemleri (+, -, *, /, **) numpy dizilerinde doğrudan kullanabilirsiniz. Bu işlemler, her bir öğeye ayrı ayrı uygulanır."
   ]
  },
  {
   "cell_type": "code",
   "execution_count": 17,
   "id": "6e0c14a1",
   "metadata": {},
   "outputs": [],
   "source": [
    "a = np.array([1, 2, 3, 4])\n",
    "b = np.array([5, 6, 7, 8])\n",
    "\n",
    "c = a + b  # [6 8 10 12]\n",
    "d = a - b  # [-4 -4 -4 -4]\n",
    "e = a * b  # [ 5 12 21 32]\n",
    "f = b / a  # [5.         3.         2.33333333 2.        ]\n",
    "g = a ** 2 # [ 1  4  9 16]"
   ]
  },
  {
   "cell_type": "markdown",
   "id": "503ec482",
   "metadata": {},
   "source": [
    "Ayrıca, numpy dizileri arasında işlemler de yapabilirsiniz. Bunun için, iki numpy dizisinin şekillerinin uyumlu olması gerekir."
   ]
  },
  {
   "cell_type": "code",
   "execution_count": 18,
   "id": "e4b3ea1c",
   "metadata": {},
   "outputs": [
    {
     "ename": "ValueError",
     "evalue": "operands could not be broadcast together with shapes (4,) (2,2) ",
     "output_type": "error",
     "traceback": [
      "\u001b[1;31m---------------------------------------------------------------------------\u001b[0m",
      "\u001b[1;31mValueError\u001b[0m                                Traceback (most recent call last)",
      "\u001b[1;32m~\\AppData\\Local\\Temp/ipykernel_12276/4240253268.py\u001b[0m in \u001b[0;36m<module>\u001b[1;34m\u001b[0m\n\u001b[0;32m      3\u001b[0m \u001b[0mc\u001b[0m \u001b[1;33m=\u001b[0m \u001b[0mnp\u001b[0m\u001b[1;33m.\u001b[0m\u001b[0marray\u001b[0m\u001b[1;33m(\u001b[0m\u001b[1;33m[\u001b[0m\u001b[1;33m[\u001b[0m\u001b[1;36m1\u001b[0m\u001b[1;33m,\u001b[0m \u001b[1;36m2\u001b[0m\u001b[1;33m]\u001b[0m\u001b[1;33m,\u001b[0m \u001b[1;33m[\u001b[0m\u001b[1;36m3\u001b[0m\u001b[1;33m,\u001b[0m \u001b[1;36m4\u001b[0m\u001b[1;33m]\u001b[0m\u001b[1;33m]\u001b[0m\u001b[1;33m)\u001b[0m\u001b[1;33m\u001b[0m\u001b[1;33m\u001b[0m\u001b[0m\n\u001b[0;32m      4\u001b[0m \u001b[1;33m\u001b[0m\u001b[0m\n\u001b[1;32m----> 5\u001b[1;33m \u001b[0md\u001b[0m \u001b[1;33m=\u001b[0m \u001b[0ma\u001b[0m \u001b[1;33m+\u001b[0m \u001b[0mc\u001b[0m  \u001b[1;31m# ValueError: operands could not be broadcast together with shapes (4,) (2,2)\u001b[0m\u001b[1;33m\u001b[0m\u001b[1;33m\u001b[0m\u001b[0m\n\u001b[0m\u001b[0;32m      6\u001b[0m \u001b[0me\u001b[0m \u001b[1;33m=\u001b[0m \u001b[0mc\u001b[0m \u001b[1;33m+\u001b[0m \u001b[0mb\u001b[0m  \u001b[1;31m# [[ 6  8]\u001b[0m\u001b[1;33m\u001b[0m\u001b[1;33m\u001b[0m\u001b[0m\n\u001b[0;32m      7\u001b[0m            \u001b[1;31m#  [10 12]]\u001b[0m\u001b[1;33m\u001b[0m\u001b[1;33m\u001b[0m\u001b[0m\n",
      "\u001b[1;31mValueError\u001b[0m: operands could not be broadcast together with shapes (4,) (2,2) "
     ]
    }
   ],
   "source": [
    "a = np.array([1, 2, 3, 4])\n",
    "b = np.array([5, 6, 7, 8])\n",
    "c = np.array([[1, 2], [3, 4]])\n",
    "\n",
    "d = a + c  # ValueError: operands could not be broadcast together with shapes (4,) (2,2)\n",
    "e = c + b  # [[ 6  8]\n",
    "           #  [10 12]]\n",
    "f = a * c  # [[ 1  4]\n",
    "           #  [ 9 16]]"
   ]
  },
  {
   "cell_type": "markdown",
   "id": "db3fb8de",
   "metadata": {},
   "source": [
    "Burada, `d = a + c` işleminde, `a` dizisi tek boyutlu iken `c` dizisi 2 boyutlu olduğundan işlem yapılamaz ve hata verir. `e = c + b` işleminde, `b` dizisi 1 boyutlu ve `c` dizisi 2 boyutlu olduğundan, `b` dizisi otomatik olarak `[[5, 6], [5, 6]]` şekline yayılır (broadcast) ve işlem yapılabilir. `f = a * c` işleminde, `a` dizisi ve `c` dizisi boyutları uyumlu olduğundan doğrudan işlem yapılabilir.\n",
    "\n",
    "Numpy dizilerinde aritmetik işlemler yaparken, dizilerin şekillerine ve veri tiplerine dikkat etmek önemlidir."
   ]
  },
  {
   "cell_type": "markdown",
   "id": "a3c73fb2",
   "metadata": {},
   "source": [
    "![](https://numpy.org/doc/stable/_images/np_matrix_aggregation_row.png)"
   ]
  },
  {
   "cell_type": "markdown",
   "id": "4191a3d1",
   "metadata": {},
   "source": [
    "## Matris işlemleri\n",
    "\n",
    "Numpy, matris işlemleri yapmak için kullanışlı bir kütüphanedir. Matrisler, numpy dizileri olarak temsil edilir ve numpy, matris işlemlerini yapmak için uygun fonksiyonları sağlar.\n",
    "\n",
    "Matrislerin çarpımı, özellikle makine öğrenmesi ve veri analizi gibi birçok alanda kullanılan temel bir matematiksel işlemdir. Numpy ile matris çarpımı yapmak için `dot` fonksiyonu kullanılır. Bu fonksiyon, iki matrisi çarpar ve sonucu yeni bir matris olarak döndürür."
   ]
  },
  {
   "cell_type": "code",
   "execution_count": 20,
   "id": "30330094",
   "metadata": {},
   "outputs": [
    {
     "name": "stdout",
     "output_type": "stream",
     "text": [
      "[[ 58  64]\n",
      " [139 154]]\n"
     ]
    }
   ],
   "source": [
    "# 2x3'lük bir matris\n",
    "a = np.array([[1, 2, 3], [4, 5, 6]])\n",
    "\n",
    "# 3x2'lik bir matris\n",
    "b = np.array([[7, 8], [9, 10], [11, 12]])\n",
    "\n",
    "# matris çarpımı\n",
    "c = np.dot(a, b)\n",
    "\n",
    "print(c)"
   ]
  },
  {
   "cell_type": "markdown",
   "id": "85485563",
   "metadata": {},
   "source": [
    "Yukarıdaki örnekte, `a` ve `b` matrisleri `dot` fonksiyonu ile çarpılır ve sonuç olarak yeni bir matris olan `c` oluşur. `c` matrisi, `a` matrisinin satırları ile `b` matrisinin sütunları arasındaki iç çarpımları temsil eder.\n",
    "\n",
    "Numpy ayrıca, matrisin tersini, determinantını, izini ve diğer matris işlemlerini yapmak için de fonksiyonlar sağlar. Örneğin, bir matrisin tersi `inv` fonksiyonu kullanılarak bulunabilir."
   ]
  },
  {
   "cell_type": "code",
   "execution_count": 21,
   "id": "2850c3d5",
   "metadata": {},
   "outputs": [
    {
     "name": "stdout",
     "output_type": "stream",
     "text": [
      "[[-2.   1. ]\n",
      " [ 1.5 -0.5]]\n"
     ]
    }
   ],
   "source": [
    "a = np.array([[1, 2], [3, 4]])\n",
    "b = np.linalg.inv(a)\n",
    "\n",
    "print(b)"
   ]
  },
  {
   "cell_type": "markdown",
   "id": "cc4a1966",
   "metadata": {},
   "source": [
    "Yukarıdaki örnekte, `a` matrisinin tersi `inv` fonksiyonu ile hesaplanır ve `b` matrisine atılır. Matrisin tersi, matrisin boyutlarına ve özelliklerine bağlı olarak bulunmayabilir veya tanımlı olmayabilir. Bu nedenle, matris işlemleri yaparken matrisin özelliklerine ve boyutlarına dikkat etmek önemlidir."
   ]
  },
  {
   "cell_type": "markdown",
   "id": "7b8a6933",
   "metadata": {},
   "source": [
    "## Sıralı Dizi Oluşturma\n",
    "\n",
    "Numpy, sıralı dizi oluşturma yöntemleri için birkaç farklı fonksiyon sağlar. Bu fonksiyonlar, belirli bir aralıkta belirli bir adımda artan, azalan veya rastgele değerler üretmek için kullanılabilir.\n",
    "\n",
    "1. `arange`: Belirli bir aralıkta belirli bir adımda artan değerler üretir. `arange` fonksiyonunun kullanımı şu şekildedir:"
   ]
  },
  {
   "cell_type": "code",
   "execution_count": 22,
   "id": "fe5457b5",
   "metadata": {},
   "outputs": [
    {
     "name": "stdout",
     "output_type": "stream",
     "text": [
      "[0 2 4 6 8]\n"
     ]
    }
   ],
   "source": [
    "# 0'dan 10'a kadar (10 hariç) 2 adımda artan değerler\n",
    "a = np.arange(0, 10, 2)\n",
    "\n",
    "print(a)"
   ]
  },
  {
   "cell_type": "markdown",
   "id": "284497da",
   "metadata": {},
   "source": [
    "Yukarıdaki örnekte, `arange` fonksiyonu ile 0 ile 10 arasında (10 hariç) 2 adımda artan bir dizi oluşturulur ve `a` değişkenine atılır.\n",
    "\n",
    "2. `linspace`: Belirli bir aralıkta belirli bir sayıda eşit aralıklı değerler üretir. `linspace` fonksiyonunun kullanımı şu şekildedir:"
   ]
  },
  {
   "cell_type": "code",
   "execution_count": 23,
   "id": "5f2c73de",
   "metadata": {},
   "outputs": [
    {
     "name": "stdout",
     "output_type": "stream",
     "text": [
      "[0.   0.25 0.5  0.75 1.  ]\n"
     ]
    }
   ],
   "source": [
    "# 0 ile 1 arasında 5 adet eşit aralıklı değer\n",
    "a = np.linspace(0, 1, 5)\n",
    "\n",
    "print(a)"
   ]
  },
  {
   "cell_type": "markdown",
   "id": "3edffce4",
   "metadata": {},
   "source": [
    "Yukarıdaki örnekte, `linspace` fonksiyonu ile 0 ile 1 arasında 5 adet eşit aralıklı bir dizi oluşturulur ve `a` değişkenine atılır.\n",
    "\n",
    "3. `logspace`: Belirli bir aralıkta belirli bir sayıda eşit logaritmik aralıklı değerler üretir. `logspace` fonksiyonunun kullanımı şu şekildedir:"
   ]
  },
  {
   "cell_type": "code",
   "execution_count": 24,
   "id": "56b75ae8",
   "metadata": {},
   "outputs": [
    {
     "name": "stdout",
     "output_type": "stream",
     "text": [
      "[   1.   10.  100. 1000.]\n"
     ]
    }
   ],
   "source": [
    "# 10 üzeri 0'dan 10 üzeri 3'e kadar (10 üzeri 3 dahil) 4 adet logaritmik aralıklı değer\n",
    "a = np.logspace(0, 3, 4)\n",
    "\n",
    "print(a)"
   ]
  },
  {
   "cell_type": "markdown",
   "id": "b46c3ca9",
   "metadata": {},
   "source": [
    "Yukarıdaki örnekte, `logspace` fonksiyonu ile 10 üzeri 0'dan 10 üzeri 3'e kadar (10 üzeri 3 dahil) 4 adet eşit logaritmik aralıklı bir dizi oluşturulur ve `a` değişkenine atılır.\n",
    "\n",
    "4. `zeros` ve `ones`: Sıfırlardan veya birlerden oluşan bir dizi oluşturur. `zeros` ve `ones` fonksiyonlarının kullanımı şu şekildedir:"
   ]
  },
  {
   "cell_type": "code",
   "execution_count": 25,
   "id": "4d8ec9f4",
   "metadata": {},
   "outputs": [
    {
     "name": "stdout",
     "output_type": "stream",
     "text": [
      "[[0. 0. 0.]\n",
      " [0. 0. 0.]]\n",
      "[[1. 1. 1.]\n",
      " [1. 1. 1.]\n",
      " [1. 1. 1.]]\n"
     ]
    }
   ],
   "source": [
    "# 2x3'lük bir sıfır matrisi\n",
    "a = np.zeros((2, 3))\n",
    "\n",
    "# 3x3'lük bir birler matrisi\n",
    "b = np.ones((3, 3))\n",
    "\n",
    "print(a)\n",
    "print(b)"
   ]
  },
  {
   "cell_type": "markdown",
   "id": "aac66ed9",
   "metadata": {},
   "source": [
    "## Dizilerin kaydedilmesi ve kopyalanması\n",
    "\n",
    "Numpy dizileri, Python listelerinden farklı olarak verileri doğrudan bellekte tutar. Bu nedenle, bir dizi oluşturulduktan sonra veriler üzerinde değişiklik yapmak mümkündür ancak bu verilerin orijinal halini kaybetme riski vardır. Bu nedenle, Numpy dizilerinin kopyalanması ve kaydedilmesi işlemleri dikkatli bir şekilde yapılmalıdır.\n",
    "\n",
    "Dizilerin Kaydedilmesi:\n",
    "\n",
    "Numpy dizileri, `.npy` uzantılı dosyalara kaydedilebilir ve daha sonra `load` fonksiyonuyla tekrar yüklenebilir. Dizi kaydetmek için `save` fonksiyonu kullanılır:"
   ]
  },
  {
   "cell_type": "code",
   "execution_count": 26,
   "id": "cf2bb7db",
   "metadata": {},
   "outputs": [
    {
     "name": "stdout",
     "output_type": "stream",
     "text": [
      "[1 2 3 4]\n"
     ]
    }
   ],
   "source": [
    "# 1x4'lük bir dizi oluştur\n",
    "a = np.array([1, 2, 3, 4])\n",
    "\n",
    "# Diziyi kaydet\n",
    "np.save(\"dizi.npy\", a)\n",
    "\n",
    "# Kaydedilmiş diziyi yükle\n",
    "b = np.load(\"dizi.npy\")\n",
    "\n",
    "print(b)"
   ]
  },
  {
   "cell_type": "markdown",
   "id": "5c3da33d",
   "metadata": {},
   "source": [
    "Yukarıdaki örnekte, `save` fonksiyonu ile `a` dizisi \"dizi.npy\" adlı dosyaya kaydedilir ve `load` fonksiyonu ile tekrar yüklenerek `b` değişkenine atanır.\n",
    "\n",
    "Dizilerin Kopyalanması:\n",
    "\n",
    "Numpy dizilerinin kopyalanması iki şekilde yapılabilir: \"shallow copy\" (yüzeysel kopya) ve \"deep copy\" (derin kopya).\n",
    "\n",
    "Yüzeysel kopya (`view`) fonksiyonu, dizinin verilerini doğrudan kopyalamaz. Bunun yerine, orijinal dizi ile yeni dizi arasında bir referans bağı oluşturur. Bu nedenle, bir dizi üzerinde yapılan değişiklikler, yüzeysel bir kopyasını alınan dizi üzerinde de yapılır:"
   ]
  },
  {
   "cell_type": "code",
   "execution_count": 27,
   "id": "a6715e63",
   "metadata": {},
   "outputs": [
    {
     "name": "stdout",
     "output_type": "stream",
     "text": [
      "[[0 2]\n",
      " [3 4]]\n",
      "[[0 2]\n",
      " [3 4]]\n"
     ]
    }
   ],
   "source": [
    "# 2x2'lik bir dizi oluştur\n",
    "a = np.array([[1, 2], [3, 4]])\n",
    "\n",
    "# Yüzeysel bir kopya oluştur\n",
    "b = a.view()\n",
    "\n",
    "# a dizisindeki verileri değiştir\n",
    "a[0][0] = 0\n",
    "\n",
    "print(a)\n",
    "print(b)"
   ]
  },
  {
   "cell_type": "markdown",
   "id": "6dd3abde",
   "metadata": {},
   "source": [
    "Yukarıdaki örnekte, `view` fonksiyonu ile `a` dizisinin yüzeysel bir kopyası oluşturulur ve `b` değişkenine atanır. `a` dizisindeki veriler değiştirildiğinde, `b` dizisi de etkilenir.\n",
    "\n",
    "Derin kopya (`copy`) fonksiyonu, bir dizinin tamamen yeni bir kopyasını oluşturur. Bu nedenle, orijinal dizi üzerinde yapılan değişiklikler, derin bir kopyasını alınan dizi üzerinde etkilemez:"
   ]
  },
  {
   "cell_type": "code",
   "execution_count": 28,
   "id": "4dea621c",
   "metadata": {},
   "outputs": [
    {
     "name": "stdout",
     "output_type": "stream",
     "text": [
      "[[0 2]\n",
      " [3 4]]\n",
      "[[1 2]\n",
      " [3 4]]\n"
     ]
    }
   ],
   "source": [
    "# 2x2'lik bir dizi oluştur\n",
    "a = np.array([[1, 2], [3, 4]])\n",
    "\n",
    "# Derin bir kopya oluştur\n",
    "b = a.copy()\n",
    "\n",
    "# a dizisindeki verileri değiştir\n",
    "a[0][0] = 0\n",
    "\n",
    "print(a)\n",
    "print(b)"
   ]
  },
  {
   "cell_type": "markdown",
   "id": "badf9add",
   "metadata": {},
   "source": [
    "Yukarıdaki örnekte, `copy` fonksiyonu ile `a` dizisinin derin bir kopyası oluşturulur ve `b` değişkenine atanır. `a` dizisindeki veriler değiştirildiğinde, `b` dizisi bundan etkilenmez.\n",
    "\n",
    "Özetle, Numpy dizileri `.npy` dosyalarına kaydedilebilir ve yüzeysel kopya ve derin kopya yöntemleri kullanılarak kopyalanabilir. Ancak, verilerin doğrudan bellekte tutulması nedeniyle, diziler üzerinde yapılan değişiklikler orijinal verileri etkileyebilir. Bu nedenle, Numpy dizileri üzerinde işlem yaparken dikkatli olunmalı ve kaydetme ve kopyalama işlemleri dikkatle yapılmalıdır."
   ]
  },
  {
   "cell_type": "markdown",
   "id": "4020a8dc",
   "metadata": {},
   "source": [
    "## Sayı formatlama\n",
    "\n",
    "`fmt` (format) parametresi, Numpy dizilerini yazdırırken kullanılan bir biçimlendirme parametresidir. Bu parametre, yazdırılan dizinin elemanlarının nasıl biçimlendirileceğini belirler.\n",
    "\n",
    "`fmt` parametresi, standart Python biçimlendirme dizelerini kullanır. Örneğin, `\"%d\"` bir tamsayı olarak biçimlendirirken, `\"%f\"` bir ondalık sayı olarak biçimlendirir. Aşağıdaki örnek, `fmt` parametresi kullanarak bir Numpy dizisini yazdırmak için `np.savetxt()` fonksiyonunu kullanır:"
   ]
  },
  {
   "cell_type": "code",
   "execution_count": 29,
   "id": "6003d1d7",
   "metadata": {},
   "outputs": [
    {
     "name": "stdout",
     "output_type": "stream",
     "text": [
      "1 2 3\n",
      "4 5 6\n",
      "7 8 9\n",
      "\n"
     ]
    }
   ],
   "source": [
    "# 3x3 boyutunda bir dizi oluştur\n",
    "a = np.array([[1, 2, 3], [4, 5, 6], [7, 8, 9]])\n",
    "\n",
    "# Diziyi bir metin dosyasına yazdır\n",
    "np.savetxt('my_array.txt', a, fmt='%d')\n",
    "\n",
    "# Dosyayı oku ve yazdır\n",
    "with open('my_array.txt', 'r') as f:\n",
    "    print(f.read())"
   ]
  },
  {
   "cell_type": "markdown",
   "id": "f38d1711",
   "metadata": {},
   "source": [
    "Bu örnekte, `fmt='%d'` parametresi, `a` dizisindeki elemanları tam sayı olarak biçimlendirir ve `my_array.txt` adlı bir dosyaya yazdırır. Dosya, aşağıdaki gibi görünecektir:\n",
    "\n",
    "```\n",
    "1 2 3\n",
    "4 5 6\n",
    "7 8 9\n",
    "```\n",
    "\n",
    "`fmt` parametresi, aynı zamanda farklı biçimlendirmeleri bir arada kullanmak için de kullanılabilir. Örneğin, aşağıdaki örnek, bir Numpy dizisindeki sayıları tam sayı ve ondalık olarak bir arada kullanarak yazdırır:"
   ]
  },
  {
   "cell_type": "code",
   "execution_count": 31,
   "id": "229959fb",
   "metadata": {},
   "outputs": [
    {
     "name": "stdout",
     "output_type": "stream",
     "text": [
      "1.00 2.00 3.00\n",
      "4.00 5.00 6.00\n",
      "7.00 8.00 9.00\n",
      "\n"
     ]
    }
   ],
   "source": [
    "# 3x3 boyutunda bir dizi oluştur\n",
    "a = np.array([[1.0, 2.0, 3.0], [4.0, 5.0, 6.0], [7.0, 8.0, 9.0]])\n",
    "\n",
    "# Diziyi bir metin dosyasına yazdır\n",
    "np.savetxt('my_array.txt', a, fmt='%.2f')\n",
    "\n",
    "# Dosyayı oku ve yazdır\n",
    "with open('my_array.txt', 'r') as f:\n",
    "    print(f.read())"
   ]
  },
  {
   "cell_type": "markdown",
   "id": "7dfbe564",
   "metadata": {},
   "source": [
    "Bu örnekte, `fmt='%d %.2f'` parametresi, dizideki tam sayıları tam sayı olarak ve ondalık sayıları iki ondalık basamaklı olarak biçimlendirir. Dosya aşağıdaki gibi görünecektir:\n",
    "\n",
    "```\n",
    "1.00 2.00 3.00\n",
    "4.00 5.00 6.00\n",
    "7.00 8.00 9.00\n",
    "```\n",
    "\n",
    "Formatlama ile ilgili daha detaylı örneklere [şu adresten](https://docs.python.org/3/library/string.html#format-specification-mini-language) ulaşılabilir."
   ]
  },
  {
   "cell_type": "markdown",
   "id": "a3ab3aa1",
   "metadata": {},
   "source": [
    "## Sonuç\n",
    "\n",
    "Bu bölümde, Numpy kütüphanesiyle ilgili çeşitli konular ele alındı. Öncelikle, Numpy kütüphanesini nasıl kullanacağımızı, dizilerin nasıl oluşturulacağını ve 3 boyutlu dizilerin nasıl kullanılacağını öğrendik. Daha sonra, dizilerdeki indeksleme, dilimleme ve mantıksal dilimleme yöntemlerini inceledik. Ayrıca, Numpy dizileri üzerinde aritmetik ve matris işlemleri yapmanın yanı sıra, sıralı diziler oluşturma yöntemlerini de öğrendik. Son olarak, dizilerin kaydedilmesi, kopyalanması ve fmt parametresi hakkında bilgi edindik. Numpy kütüphanesi, bilimsel hesaplama ve veri analizi için güçlü bir araçtır ve bu bölümde ele aldığımız konuların bir kısmı, Numpy ile yapabileceğimiz işlemlerin sadece bir örneğidir."
   ]
  },
  {
   "cell_type": "code",
   "execution_count": null,
   "id": "48034a69",
   "metadata": {},
   "outputs": [],
   "source": []
  }
 ],
 "metadata": {
  "kernelspec": {
   "display_name": "Python 3 (ipykernel)",
   "language": "python",
   "name": "python3"
  },
  "language_info": {
   "codemirror_mode": {
    "name": "ipython",
    "version": 3
   },
   "file_extension": ".py",
   "mimetype": "text/x-python",
   "name": "python",
   "nbconvert_exporter": "python",
   "pygments_lexer": "ipython3",
   "version": "3.9.7"
  },
  "toc": {
   "base_numbering": 1,
   "nav_menu": {},
   "number_sections": true,
   "sideBar": true,
   "skip_h1_title": false,
   "title_cell": "Table of Contents",
   "title_sidebar": "Contents",
   "toc_cell": false,
   "toc_position": {},
   "toc_section_display": true,
   "toc_window_display": false
  },
  "varInspector": {
   "cols": {
    "lenName": 16,
    "lenType": 16,
    "lenVar": 40
   },
   "kernels_config": {
    "python": {
     "delete_cmd_postfix": "",
     "delete_cmd_prefix": "del ",
     "library": "var_list.py",
     "varRefreshCmd": "print(var_dic_list())"
    },
    "r": {
     "delete_cmd_postfix": ") ",
     "delete_cmd_prefix": "rm(",
     "library": "var_list.r",
     "varRefreshCmd": "cat(var_dic_list()) "
    }
   },
   "types_to_exclude": [
    "module",
    "function",
    "builtin_function_or_method",
    "instance",
    "_Feature"
   ],
   "window_display": false
  }
 },
 "nbformat": 4,
 "nbformat_minor": 5
}
