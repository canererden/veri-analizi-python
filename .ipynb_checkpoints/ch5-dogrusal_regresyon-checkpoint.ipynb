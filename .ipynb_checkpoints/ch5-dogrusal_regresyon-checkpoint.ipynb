{
 "cells": [
  {
   "cell_type": "markdown",
   "id": "0d4b450d",
   "metadata": {},
   "source": [
    "# Doğrusal Regresyon Modeli\n",
    "\n",
    "Bu bölümde kitapta ilk çalışılacak model olan regresyon modelleri incelenecektir. Bu bölümün birinci kısmında regresyon analizinin temel kavramlarından ve temel hesaplamalarından bahsedilecektir. Ardından Scikit-Learn kütüphanesi ile regresyon uygulaması gösterilecektir.\n",
    "\n",
    "## Doğrusal Regresyon Modelleri\n",
    "\n",
    "\n",
    "\n",
    "Doğrusal regresyon, bir bağımlı değişkenin (outcome variable) bir veya daha fazla bağımsız değişkene (predictor variable) bağlı olduğu varsayımıyla yapılan bir istatistiksel analiz yöntemidir. Bu yöntem, bağımsız değişkenlerin bağımlı değişkendeki etkisini ölçmek ve bu etkiyi açıklayan bir denklem oluşturmak için kullanılır. Doğrusal regresyon modelleri, verilerin bir doğru veya düzlem üzerinde düzenlendiği varsayımını kullanır. Bu modeller, bir doğru veya düzlem kullanarak bağımsız değişkenlerin bağımlı değişken üzerindeki etkilerini hesaplar. Bu etkiler, denklemler aracılığıyla ölçülür ve açıklanır. Doğrusal regresyon modeli, iki tip değişken arasındaki ilişkiyi modellemek için kullanılır: bağımsız ve bağımlı değişkenler. Bağımsız değişken, bağımlı değişkendeki değişikliklerin sebebini açıklamak için kullanılır. Bu değişkenlerin bir veya daha fazlası kullanılarak, bağımlı değişkenin değerini tahmin etmek veya gelecekteki değerlerini tahmin etmek için bir denklem oluşturulur.\n",
    "\n",
    "Doğrusal regresyon modelleri, tahmin edilecek bağımlı değişkenin özelliklerine bağlı olarak farklı şekillerde kullanılabilir. Basit doğrusal regresyon, yalnızca bir bağımsız değişken kullanırken, çoklu doğrusal regresyon, birden fazla bağımsız değişkeni dahil eder. Ayrıca, doğrusal olmayan regresyon modelleri de vardır, ancak bunlar daha karmaşık matematiksel yöntemler gerektirir.\n",
    "\n",
    "Regresyon analizinde 4 temel varsayım söz konusudur. Bunlar;\n",
    "- Doğrusallık: X ile y değişkeni arasında lineer bir ilişkinin olması durumudur.\n",
    "- Varyansların eşitliği: X değişkenin her değeri için hesaplanan hataların varyansının eşit olması durumudur.\n",
    "- Bağımsız Olma: Gözlemlerin birbirinden bağımsız olması durumdur.\n",
    "- Normallik: Hata terimindeki değerlerin normal dağılıma uyduğu durumdur."
   ]
  },
  {
   "cell_type": "code",
   "execution_count": null,
   "id": "141315ca",
   "metadata": {},
   "outputs": [],
   "source": []
  }
 ],
 "metadata": {
  "kernelspec": {
   "display_name": "Python 3 (ipykernel)",
   "language": "python",
   "name": "python3"
  },
  "language_info": {
   "codemirror_mode": {
    "name": "ipython",
    "version": 3
   },
   "file_extension": ".py",
   "mimetype": "text/x-python",
   "name": "python",
   "nbconvert_exporter": "python",
   "pygments_lexer": "ipython3",
   "version": "3.9.7"
  },
  "toc": {
   "base_numbering": 1,
   "nav_menu": {},
   "number_sections": true,
   "sideBar": true,
   "skip_h1_title": false,
   "title_cell": "Table of Contents",
   "title_sidebar": "Contents",
   "toc_cell": false,
   "toc_position": {},
   "toc_section_display": true,
   "toc_window_display": false
  },
  "varInspector": {
   "cols": {
    "lenName": 16,
    "lenType": 16,
    "lenVar": 40
   },
   "kernels_config": {
    "python": {
     "delete_cmd_postfix": "",
     "delete_cmd_prefix": "del ",
     "library": "var_list.py",
     "varRefreshCmd": "print(var_dic_list())"
    },
    "r": {
     "delete_cmd_postfix": ") ",
     "delete_cmd_prefix": "rm(",
     "library": "var_list.r",
     "varRefreshCmd": "cat(var_dic_list()) "
    }
   },
   "types_to_exclude": [
    "module",
    "function",
    "builtin_function_or_method",
    "instance",
    "_Feature"
   ],
   "window_display": false
  }
 },
 "nbformat": 4,
 "nbformat_minor": 5
}
